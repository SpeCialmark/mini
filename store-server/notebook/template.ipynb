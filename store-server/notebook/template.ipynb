{
 "cells": [
  {
   "cell_type": "code",
   "execution_count": 3,
   "metadata": {},
   "outputs": [],
   "source": [
    "from ipywidgets import interact, interactive, fixed, interact_manual\n",
    "import ipywidgets as widgets\n",
    "import requests\n",
    "from pprint import pprint\n",
    "from IPython.display import JSON"
   ]
  },
  {
   "cell_type": "code",
   "execution_count": 4,
   "metadata": {},
   "outputs": [],
   "source": [
    "base_url = 'https://store.11train.com/api/v1'\n",
    "token_format = '{phone_number}:{sms_code}'"
   ]
  },
  {
   "cell_type": "code",
   "execution_count": 6,
   "metadata": {},
   "outputs": [],
   "source": [
    "admin_header = {}"
   ]
  },
  {
   "cell_type": "code",
   "execution_count": 99,
   "metadata": {},
   "outputs": [],
   "source": [
    "phone_number = '18688967466'"
   ]
  },
  {
   "cell_type": "markdown",
   "metadata": {},
   "source": [
    "# 获取验证码"
   ]
  },
  {
   "cell_type": "code",
   "execution_count": 103,
   "metadata": {},
   "outputs": [
    {
     "name": "stdout",
     "output_type": "stream",
     "text": [
      "{'msg': '短信已发送, 请注意查收.', 'token_format': '{phone_number}:{sms_code}'}\n"
     ]
    }
   ],
   "source": [
    "r = requests.post(base_url + '/user/admin_login/' + phone_number)\n",
    "pprint(r.json())"
   ]
  },
  {
   "cell_type": "markdown",
   "metadata": {},
   "source": [
    "# 设置管理员TOKEN"
   ]
  },
  {
   "cell_type": "code",
   "execution_count": 104,
   "metadata": {},
   "outputs": [
    {
     "name": "stdout",
     "output_type": "stream",
     "text": [
      "{'token': '18688967466:312228'}\n"
     ]
    }
   ],
   "source": [
    "sms_code = '312228'     # 查看手机\n",
    "admin_header = {\n",
    "    'token': token_format.format(phone_number=phone_number, sms_code=sms_code)\n",
    "}\n",
    "pprint(admin_header)"
   ]
  },
  {
   "cell_type": "markdown",
   "metadata": {},
   "source": [
    "# 获取所有模板"
   ]
  },
  {
   "cell_type": "code",
   "execution_count": 97,
   "metadata": {},
   "outputs": [
    {
     "data": {
      "application/json": {
       "templates": [
        {
         "created_at": "6月19日 17:39",
         "description": "Give me five",
         "ext_json_format": {
          "directCommit": true,
          "ext": {
           "app_id": "{app_id}",
           "attr": {},
           "envVersion": "release",
           "name": "gym store",
           "reservationToshop": "true",
           "title": "{app_name}",
           "version": "{version}"
          },
          "extAppid": "{app_id}",
          "extEnable": true,
          "window": {
           "backgroundColor": "#f8f8f8",
           "navigationBarBackgroundColor": "#38373d",
           "navigationBarTextStyle": "white",
           "navigationBarTitleText": "{app_name}"
          }
         },
         "id": 1,
         "modified_at": "1月9日 10:59",
         "name": "base",
         "params_desc": {
          "app_id": "app_id",
          "app_name": "标题"
         },
         "title": "客户端",
         "version": "2.1.9",
         "wx_template_id": 137
        },
        {
         "created_at": "6月22日 14:56",
         "description": null,
         "ext_json_format": {
          "directCommit": true,
          "ext": {
           "app_id": "{app_id}",
           "attr": {},
           "envVersion": "release",
           "name": "gym store helper",
           "title": "{app_name}",
           "version": "{version}"
          },
          "extAppid": "{app_id}",
          "extEnable": true,
          "window": {
           "backgroundColor": "#f8f8f8",
           "navigationBarBackgroundColor": "#38373d",
           "navigationBarTextStyle": "white",
           "navigationBarTitleText": "{app_name}"
          }
         },
         "id": 2,
         "modified_at": "1月9日 11:00",
         "name": "base helper",
         "params_desc": null,
         "title": "小助手",
         "version": "1.1.9",
         "wx_template_id": 138
        },
        {
         "created_at": "7月17日 15:14",
         "description": null,
         "ext_json_format": {
          "directCommit": true,
          "ext": {
           "app_id": "{app_id}",
           "attr": {},
           "envVersion": "release",
           "name": "gym store",
           "title": "{app_name}",
           "version": "{version}"
          },
          "extAppid": "{app_id}",
          "extEnable": true,
          "tabBar": {
           "backgroundColor": "#ffffff",
           "borderStyle": "black",
           "color": "#bfbfbf",
           "list": [
            {
             "iconPath": "./images/home.png",
             "pagePath": "pages/home/index",
             "selectedIconPath": "./images/home-active.png",
             "text": "首页"
            },
            {
             "iconPath": "./images/course.png",
             "pagePath": "pages/course/index",
             "selectedIconPath": "./images/course-active.png",
             "text": "课程"
            },
            {
             "iconPath": "./images/feed.png",
             "pagePath": "pages/feed/index",
             "selectedIconPath": "./images/feed-active.png",
             "text": "动态"
            },
            {
             "iconPath": "./images/coach.png",
             "pagePath": "pages/coach/coachSolo",
             "selectedIconPath": "./images/coach-active.png",
             "text": "教练"
            },
            {
             "iconPath": "./images/me.png",
             "pagePath": "pages/user/index",
             "selectedIconPath": "./images/me-active.png",
             "text": "我"
            }
           ],
           "selectedColor": "#2c2c2c"
          },
          "window": {
           "backgroundColor": "#f8f8f8",
           "navigationBarBackgroundColor": "#38373d",
           "navigationBarTextStyle": "white",
           "navigationBarTitleText": "{app_name}"
          }
         },
         "id": 3,
         "modified_at": "8月1日 16:42",
         "name": "solo coach",
         "params_desc": null,
         "title": "高级版个人版",
         "version": "2.8.1",
         "wx_template_id": 46
        },
        {
         "created_at": "12月15日 18:15",
         "description": null,
         "ext_json_format": {
          "directCommit": true,
          "ext": {
           "app_id": "{app_id}",
           "attr": {},
           "envVersion": "release",
           "name": "gym store",
           "reservationToshop": "true",
           "title": "{app_name}",
           "version": "{version}"
          },
          "extAppid": "{app_id}",
          "extEnable": true,
          "window": {
           "backgroundColor": "#f8f8f8",
           "navigationBarBackgroundColor": "#38373d",
           "navigationBarTextStyle": "white",
           "navigationBarTitleText": "{app_name}"
          }
         },
         "id": 5,
         "modified_at": "1月9日 11:00",
         "name": "boss",
         "params_desc": null,
         "title": "boss管理端",
         "version": "3.1.9",
         "wx_template_id": 139
        },
        {
         "created_at": "8月8日 09:30",
         "description": null,
         "ext_json_format": {
          "directCommit": true,
          "ext": {
           "app_id": "{app_id}",
           "attr": {},
           "envVersion": "release",
           "name": "gym store",
           "title": "{app_name}",
           "version": "{version}"
          },
          "extAppid": "{app_id}",
          "extEnable": true,
          "tabBar": {
           "backgroundColor": "#ffffff",
           "borderStyle": "black",
           "color": "#bfbfbf",
           "list": [
            {
             "iconPath": "./images/home.png",
             "pagePath": "pages/home/index",
             "selectedIconPath": "./images/home-active.png",
             "text": "首页"
            },
            {
             "iconPath": "./images/course.png",
             "pagePath": "pages/course/index",
             "selectedIconPath": "./images/course-active.png",
             "text": "课程"
            },
            {
             "iconPath": "./images/feed.png",
             "pagePath": "pages/feed/index",
             "selectedIconPath": "./images/feed-active.png",
             "text": "动态"
            },
            {
             "iconPath": "./images/coach.png",
             "pagePath": "pages/coach/index",
             "selectedIconPath": "./images/coach-active.png",
             "text": "教练"
            },
            {
             "iconPath": "./images/me.png",
             "pagePath": "pages/user/index",
             "selectedIconPath": "./images/me-active.png",
             "text": "我"
            }
           ],
           "selectedColor": "#2c2c2c"
          },
          "window": {
           "backgroundColor": "#f8f8f8",
           "navigationBarBackgroundColor": "#38373d",
           "navigationBarTextStyle": "white",
           "navigationBarTitleText": "{app_name}"
          }
         },
         "id": 4,
         "modified_at": "1月9日 11:00",
         "name": "coach",
         "params_desc": null,
         "title": "高级版无团课多教练版",
         "version": "2.1.9",
         "wx_template_id": 137
        }
       ]
      },
      "text/plain": [
       "<IPython.core.display.JSON object>"
      ]
     },
     "execution_count": 97,
     "metadata": {
      "application/json": {
       "expanded": false,
       "root": "root"
      }
     },
     "output_type": "execute_result"
    }
   ],
   "source": [
    "r = requests.get(base_url + '/codebase/templates', headers=admin_header)\n",
    "JSON(r.json(), expanded=False)"
   ]
  },
  {
   "cell_type": "markdown",
   "metadata": {},
   "source": [
    "# 更新模板1  (高级版)"
   ]
  },
  {
   "cell_type": "markdown",
   "metadata": {},
   "source": [
    "### 可以修改的字段有name, title, ext_json_format, params_desc, wx_template_id, version, description\n",
    "### 微信的模板库更新模板id后, 必须更新wx_template_id"
   ]
  },
  {
   "cell_type": "code",
   "execution_count": 102,
   "metadata": {},
   "outputs": [
    {
     "data": {
      "application/json": {
       "template": {
        "created_at": "6月19日 17:39",
        "description": "Give me five",
        "ext_json_format": {
         "directCommit": true,
         "ext": {
          "app_id": "{app_id}",
          "attr": {},
          "envVersion": "release",
          "name": "gym store",
          "reservationToshop": "true",
          "title": "{app_name}",
          "version": "{version}"
         },
         "extAppid": "{app_id}",
         "extEnable": true,
         "window": {
          "backgroundColor": "#f8f8f8",
          "navigationBarBackgroundColor": "#38373d",
          "navigationBarTextStyle": "white",
          "navigationBarTitleText": "{app_name}"
         }
        },
        "id": 1,
        "modified_at": "1月9日 16:53",
        "name": "base",
        "params_desc": {
         "app_id": "app_id",
         "app_name": "标题"
        },
        "title": "客户端",
        "version": "2.1.9",
        "wx_template_id": 137
       }
      },
      "text/plain": [
       "<IPython.core.display.JSON object>"
      ]
     },
     "execution_count": 102,
     "metadata": {
      "application/json": {
       "expanded": true,
       "root": "root"
      }
     },
     "output_type": "execute_result"
    }
   ],
   "source": [
    "template_id = 1\n",
    "json_data = {\n",
    "    'title': '客户端',\n",
    "    \"app_mark\":\"1\",\n",
    "    'wx_template_id':137,\n",
    "    'version':'2.1.9',\n",
    "     'ext_json_format':\n",
    "        {\n",
    "    \"extEnable\": True,\n",
    "    \"extAppid\": \"{app_id}\",\n",
    "    \"directCommit\": True,\n",
    "    \"ext\": {\n",
    "        \"app_id\": \"{app_id}\",\n",
    "        \"title\": \"{app_name}\",\n",
    "        \"version\": \"{version}\",\n",
    "        \"name\": \"gym store\",\n",
    "        \"attr\": {},\n",
    "        \"envVersion\": \"release\",\n",
    "        \"reservationToshop\": \"true\"\n",
    "        \n",
    "    },\n",
    "    \"window\": {\n",
    "        \"navigationBarBackgroundColor\": \"#38373d\",\n",
    "        \"navigationBarTextStyle\": \"white\",\n",
    "        \"backgroundColor\": \"#f8f8f8\",\n",
    "        \"navigationBarTitleText\": \"{app_name}\"\n",
    "    }\n",
    "}\n",
    "     \n",
    "}\n",
    "r = requests.put(base_url + '/codebase/templates/' + str(template_id), json=json_data, headers=admin_header)\n",
    "JSON(r.json(), expanded=True)"
   ]
  },
  {
   "cell_type": "markdown",
   "metadata": {},
   "source": [
    "# 更新模板2 (高级版小助手)"
   ]
  },
  {
   "cell_type": "code",
   "execution_count": 105,
   "metadata": {},
   "outputs": [
    {
     "data": {
      "application/json": {
       "template": {
        "created_at": "6月22日 14:56",
        "description": null,
        "ext_json_format": {
         "directCommit": true,
         "ext": {
          "app_id": "{app_id}",
          "attr": {},
          "envVersion": "release",
          "name": "gym store helper",
          "title": "{app_name}",
          "version": "{version}"
         },
         "extAppid": "{app_id}",
         "extEnable": true,
         "window": {
          "backgroundColor": "#f8f8f8",
          "navigationBarBackgroundColor": "#38373d",
          "navigationBarTextStyle": "white",
          "navigationBarTitleText": "{app_name}"
         }
        },
        "id": 2,
        "modified_at": "1月10日 17:01",
        "name": "base helper",
        "params_desc": null,
        "title": "小助手",
        "version": "1.1.10",
        "wx_template_id": 140
       }
      },
      "text/plain": [
       "<IPython.core.display.JSON object>"
      ]
     },
     "execution_count": 105,
     "metadata": {
      "application/json": {
       "expanded": true,
       "root": "root"
      }
     },
     "output_type": "execute_result"
    }
   ],
   "source": [
    "template_id = 2\n",
    "json_data = {\n",
    "    'title': '小助手',\n",
    "    \"app_mark\":\"2\",\n",
    "    'wx_template_id': 140,\n",
    "    'version':'1.1.10',\n",
    "    'ext_json_format':\n",
    "    {\n",
    "        \"extEnable\": True,\n",
    "        \"extAppid\": \"{app_id}\",\n",
    "        \"directCommit\": True,\n",
    "        \"ext\": {\n",
    "            \"app_id\": \"{app_id}\",\n",
    "            \"title\": \"{app_name}\",\n",
    "            \"version\": \"{version}\",\n",
    "            \"name\": \"gym store helper\",\n",
    "            \"attr\": {},\n",
    "            \"envVersion\": \"release\"\n",
    "        },\n",
    "        \"window\": {\n",
    "            \"navigationBarBackgroundColor\": \"#38373d\",\n",
    "            \"navigationBarTextStyle\": \"white\",\n",
    "            \"backgroundColor\": \"#f8f8f8\",\n",
    "            \"navigationBarTitleText\": \"{app_name}\"\n",
    "        }\n",
    "    }\n",
    "}\n",
    "     \n",
    "r = requests.put(base_url + '/codebase/templates/' + str(template_id), json=json_data, headers=admin_header)\n",
    "JSON(r.json(), expanded=True)"
   ]
  },
  {
   "cell_type": "markdown",
   "metadata": {},
   "source": [
    "# 更新boss端"
   ]
  },
  {
   "cell_type": "code",
   "execution_count": 94,
   "metadata": {},
   "outputs": [
    {
     "data": {
      "application/json": {
       "template": {
        "created_at": "12月15日 18:15",
        "description": null,
        "ext_json_format": {
         "directCommit": true,
         "ext": {
          "app_id": "{app_id}",
          "attr": {},
          "envVersion": "release",
          "name": "gym store",
          "reservationToshop": "true",
          "title": "{app_name}",
          "version": "{version}"
         },
         "extAppid": "{app_id}",
         "extEnable": true,
         "window": {
          "backgroundColor": "#f8f8f8",
          "navigationBarBackgroundColor": "#38373d",
          "navigationBarTextStyle": "white",
          "navigationBarTitleText": "{app_name}"
         }
        },
        "id": 5,
        "modified_at": "1月9日 11:00",
        "name": "boss",
        "params_desc": null,
        "title": "boss管理端",
        "version": "3.1.9",
        "wx_template_id": 139
       }
      },
      "text/plain": [
       "<IPython.core.display.JSON object>"
      ]
     },
     "execution_count": 94,
     "metadata": {
      "application/json": {
       "expanded": true,
       "root": "root"
      }
     },
     "output_type": "execute_result"
    }
   ],
   "source": [
    "template_id = 5\n",
    "json_data = {\n",
    "    'title': 'boss管理端',\n",
    "    \"app_mark\":\"3\",\n",
    "    'wx_template_id':139,\n",
    "    'version':'3.1.9',\n",
    "     'ext_json_format':\n",
    "        {\n",
    "    \"extEnable\": True,\n",
    "    \"extAppid\": \"{app_id}\",\n",
    "    \"directCommit\": True,\n",
    "    \"ext\": {\n",
    "        \"app_id\": \"{app_id}\",\n",
    "        \"title\": \"{app_name}\",\n",
    "        \"version\": \"{version}\",\n",
    "        \"name\": \"gym store\",\n",
    "        \"attr\": {},\n",
    "        \"envVersion\": \"release\",\n",
    "        \"reservationToshop\": \"true\"\n",
    "        \n",
    "    },\n",
    "    \"window\": {\n",
    "        \"navigationBarBackgroundColor\": \"#38373d\",\n",
    "        \"navigationBarTextStyle\": \"white\",\n",
    "        \"backgroundColor\": \"#f8f8f8\",\n",
    "        \"navigationBarTitleText\": \"{app_name}\"\n",
    "    }\n",
    "}\n",
    "     \n",
    "}\n",
    "r = requests.put(base_url + '/codebase/templates/' + str(template_id), json=json_data, headers=admin_header)\n",
    "JSON(r.json(), expanded=True)"
   ]
  },
  {
   "cell_type": "code",
   "execution_count": 95,
   "metadata": {},
   "outputs": [
    {
     "data": {
      "application/json": {
       "template": {
        "created_at": "8月8日 09:30",
        "description": null,
        "ext_json_format": {
         "directCommit": true,
         "ext": {
          "app_id": "{app_id}",
          "attr": {},
          "envVersion": "release",
          "name": "gym store",
          "title": "{app_name}",
          "version": "{version}"
         },
         "extAppid": "{app_id}",
         "extEnable": true,
         "tabBar": {
          "backgroundColor": "#ffffff",
          "borderStyle": "black",
          "color": "#bfbfbf",
          "list": [
           {
            "iconPath": "./images/home.png",
            "pagePath": "pages/home/index",
            "selectedIconPath": "./images/home-active.png",
            "text": "首页"
           },
           {
            "iconPath": "./images/course.png",
            "pagePath": "pages/course/index",
            "selectedIconPath": "./images/course-active.png",
            "text": "课程"
           },
           {
            "iconPath": "./images/feed.png",
            "pagePath": "pages/feed/index",
            "selectedIconPath": "./images/feed-active.png",
            "text": "动态"
           },
           {
            "iconPath": "./images/coach.png",
            "pagePath": "pages/coach/index",
            "selectedIconPath": "./images/coach-active.png",
            "text": "教练"
           },
           {
            "iconPath": "./images/me.png",
            "pagePath": "pages/user/index",
            "selectedIconPath": "./images/me-active.png",
            "text": "我"
           }
          ],
          "selectedColor": "#2c2c2c"
         },
         "window": {
          "backgroundColor": "#f8f8f8",
          "navigationBarBackgroundColor": "#38373d",
          "navigationBarTextStyle": "white",
          "navigationBarTitleText": "{app_name}"
         }
        },
        "id": 4,
        "modified_at": "1月9日 11:00",
        "name": "coach",
        "params_desc": null,
        "title": "高级版无团课多教练版",
        "version": "2.1.9",
        "wx_template_id": 137
       }
      },
      "text/plain": [
       "<IPython.core.display.JSON object>"
      ]
     },
     "execution_count": 95,
     "metadata": {
      "application/json": {
       "expanded": true,
       "root": "root"
      }
     },
     "output_type": "execute_result"
    }
   ],
   "source": [
    "template_id = 4\n",
    "json_data = {\n",
    "    'name': 'coach',\n",
    "    'title': '高级版无团课多教练版',\n",
    "    'wx_template_id': 137,\n",
    "    'version':'2.1.9',\n",
    "    'ext_json_format':\n",
    "    {\n",
    "        \"extEnable\": True,\n",
    "        \"extAppid\": \"{app_id}\",\n",
    "        \"directCommit\": True,\n",
    "        \"ext\": {\n",
    "            \"app_id\": \"{app_id}\",\n",
    "            \"title\": \"{app_name}\",\n",
    "            \"version\": \"{version}\",\n",
    "            \"name\": \"gym store\",\n",
    "            \"attr\": {},\n",
    "            \"envVersion\": \"release\"\n",
    "        },\n",
    "        \"window\": {\n",
    "            \"navigationBarBackgroundColor\": \"#38373d\",\n",
    "            \"navigationBarTextStyle\": \"white\",\n",
    "            \"backgroundColor\": \"#f8f8f8\",\n",
    "            \"navigationBarTitleText\": \"{app_name}\"\n",
    "        },\n",
    "         \"tabBar\": {\n",
    "        \"color\": \"#bfbfbf\",\n",
    "        \"selectedColor\": \"#2c2c2c\",\n",
    "        \"borderStyle\": \"black\",\n",
    "        \"backgroundColor\": \"#ffffff\",\n",
    "        \"list\": [\n",
    "            {\n",
    "                \"pagePath\": \"pages/home/index\",\n",
    "                \"text\": \"首页\",\n",
    "                \"iconPath\": \"./images/home.png\",\n",
    "                \"selectedIconPath\": \"./images/home-active.png\"\n",
    "            },\n",
    "            {\n",
    "                \"pagePath\": \"pages/course/index\",\n",
    "                \"text\": \"课程\",\n",
    "                \"iconPath\": \"./images/course.png\",\n",
    "                \"selectedIconPath\": \"./images/course-active.png\"\n",
    "            },\n",
    "            {\n",
    "                \"pagePath\": \"pages/feed/index\",\n",
    "                \"text\": \"动态\",\n",
    "                \"iconPath\": \"./images/feed.png\",\n",
    "                \"selectedIconPath\": \"./images/feed-active.png\"\n",
    "            },\n",
    "            {\n",
    "                \"pagePath\": \"pages/coach/index\",\n",
    "                \"text\": \"教练\",\n",
    "                \"iconPath\": \"./images/coach.png\",\n",
    "                \"selectedIconPath\": \"./images/coach-active.png\"\n",
    "            },\n",
    "            {\n",
    "                \"pagePath\": \"pages/user/index\",\n",
    "                \"text\": \"我\",\n",
    "                \"iconPath\": \"./images/me.png\",\n",
    "                \"selectedIconPath\": \"./images/me-active.png\"\n",
    "            }\n",
    "        ]\n",
    "    }\n",
    "    }\n",
    "} \n",
    "r = requests.put(base_url + '/codebase/templates/' + str(template_id), json=json_data, headers=admin_header)\n",
    "JSON(r.json(), expanded=True)"
   ]
  },
  {
   "cell_type": "markdown",
   "metadata": {},
   "source": [
    "# 新增模板"
   ]
  },
  {
   "cell_type": "code",
   "execution_count": 53,
   "metadata": {},
   "outputs": [
    {
     "data": {
      "application/json": {
       "template": {
        "created_at": "8月8日 09:30",
        "description": null,
        "ext_json_format": {
         "directCommit": true,
         "ext": {
          "app_id": "{app_id}",
          "attr": {},
          "envVersion": "release",
          "name": "gym store",
          "title": "{app_name}",
          "version": "{version}"
         },
         "extAppid": "{app_id}",
         "extEnable": true,
         "tabBar": {
          "backgroundColor": "#ffffff",
          "borderStyle": "black",
          "color": "#bfbfbf",
          "list": [
           {
            "iconPath": "./images/home.png",
            "pagePath": "pages/home/index",
            "selectedIconPath": "./images/home-active.png",
            "text": "首页"
           },
           {
            "iconPath": "./images/course.png",
            "pagePath": "pages/course/index",
            "selectedIconPath": "./images/course-active.png",
            "text": "课程"
           },
           {
            "iconPath": "./images/feed.png",
            "pagePath": "pages/feed/index",
            "selectedIconPath": "./images/feed-active.png",
            "text": "动态"
           },
           {
            "iconPath": "./images/coach.png",
            "pagePath": "pages/coach/index",
            "selectedIconPath": "./images/coach-active.png",
            "text": "教练"
           },
           {
            "iconPath": "./images/me.png",
            "pagePath": "pages/user/index",
            "selectedIconPath": "./images/me-active.png",
            "text": "我"
           }
          ],
          "selectedColor": "#2c2c2c"
         },
         "window": {
          "backgroundColor": "#f8f8f8",
          "navigationBarBackgroundColor": "#38373d",
          "navigationBarTextStyle": "white",
          "navigationBarTitleText": "{app_name}"
         }
        },
        "id": 4,
        "modified_at": "8月8日 09:30",
        "name": "coach",
        "params_desc": null,
        "title": "高级版无团课多教练版",
        "version": "TODO",
        "wx_template_id": 54
       }
      },
      "text/plain": [
       "<IPython.core.display.JSON object>"
      ]
     },
     "execution_count": 53,
     "metadata": {
      "application/json": {
       "expanded": true
      }
     },
     "output_type": "execute_result"
    }
   ],
   "source": [
    "# json_data = {\n",
    "#     'name': 'base helper',\n",
    "#     'title': '高级版小助手',\n",
    "#     'wx_template_id': -1,\n",
    "#     'version':'TODO',\n",
    "#     'ext_json_format':\n",
    "#     {\n",
    "#         \"extEnable\": True,\n",
    "#         \"extAppid\": \"{app_id}\",\n",
    "#         \"directCommit\": True,\n",
    "#         \"ext\": {\n",
    "#             \"app_id\": \"{app_id}\",\n",
    "#             \"title\": \"{app_name}\",\n",
    "#             \"version\": \"{version}\",\n",
    "#             \"name\": \"gym store\",\n",
    "#             \"attr\": {},\n",
    "#             \"envVersion\": \"release\"\n",
    "#         },\n",
    "#         \"window\": {\n",
    "#             \"navigationBarBackgroundColor\": \"#38373d\",\n",
    "#             \"navigationBarTextStyle\": \"white\",\n",
    "#             \"backgroundColor\": \"#f8f8f8\",\n",
    "#             \"navigationBarTitleText\": \"{app_name}\"\n",
    "#         }\n",
    "#     }\n",
    "# }\n",
    "# r = requests.post(base_url + '/codebase/templates', json=json_data, headers=admin_header)\n",
    "# pprint(r.json())\n",
    "json_data = {\n",
    "    'name': 'coach',\n",
    "    'title': '高级版无团课多教练版',\n",
    "    'wx_template_id': 54,\n",
    "    'version':'TODO',\n",
    "    'ext_json_format':\n",
    "    {\n",
    "        \"extEnable\": True,\n",
    "        \"extAppid\": \"{app_id}\",\n",
    "        \"directCommit\": True,\n",
    "        \"ext\": {\n",
    "            \"app_id\": \"{app_id}\",\n",
    "            \"title\": \"{app_name}\",\n",
    "            \"version\": \"{version}\",\n",
    "            \"name\": \"gym store\",\n",
    "            \"attr\": {},\n",
    "            \"envVersion\": \"release\"\n",
    "        },\n",
    "        \"window\": {\n",
    "            \"navigationBarBackgroundColor\": \"#38373d\",\n",
    "            \"navigationBarTextStyle\": \"white\",\n",
    "            \"backgroundColor\": \"#f8f8f8\",\n",
    "            \"navigationBarTitleText\": \"{app_name}\"\n",
    "        },\n",
    "         \"tabBar\": {\n",
    "        \"color\": \"#bfbfbf\",\n",
    "        \"selectedColor\": \"#2c2c2c\",\n",
    "        \"borderStyle\": \"black\",\n",
    "        \"backgroundColor\": \"#ffffff\",\n",
    "        \"list\": [\n",
    "            {\n",
    "                \"pagePath\": \"pages/home/index\",\n",
    "                \"text\": \"首页\",\n",
    "                \"iconPath\": \"./images/home.png\",\n",
    "                \"selectedIconPath\": \"./images/home-active.png\"\n",
    "            },\n",
    "            {\n",
    "                \"pagePath\": \"pages/course/index\",\n",
    "                \"text\": \"课程\",\n",
    "                \"iconPath\": \"./images/course.png\",\n",
    "                \"selectedIconPath\": \"./images/course-active.png\"\n",
    "            },\n",
    "            {\n",
    "                \"pagePath\": \"pages/feed/index\",\n",
    "                \"text\": \"动态\",\n",
    "                \"iconPath\": \"./images/feed.png\",\n",
    "                \"selectedIconPath\": \"./images/feed-active.png\"\n",
    "            },\n",
    "            {\n",
    "                \"pagePath\": \"pages/coach/index\",\n",
    "                \"text\": \"教练\",\n",
    "                \"iconPath\": \"./images/coach.png\",\n",
    "                \"selectedIconPath\": \"./images/coach-active.png\"\n",
    "            },\n",
    "            {\n",
    "                \"pagePath\": \"pages/user/index\",\n",
    "                \"text\": \"我\",\n",
    "                \"iconPath\": \"./images/me.png\",\n",
    "                \"selectedIconPath\": \"./images/me-active.png\"\n",
    "            }\n",
    "        ]\n",
    "    }\n",
    "    }\n",
    "}\n",
    "r = requests.post(base_url + '/codebase/templates', json=json_data, headers=admin_header)\n",
    "JSON(r.json(), expanded=True)"
   ]
  }
 ],
 "metadata": {
  "kernelspec": {
   "display_name": "Python 3",
   "language": "python",
   "name": "python3"
  },
  "language_info": {
   "codemirror_mode": {
    "name": "ipython",
    "version": 3
   },
   "file_extension": ".py",
   "mimetype": "text/x-python",
   "name": "python",
   "nbconvert_exporter": "python",
   "pygments_lexer": "ipython3",
   "version": "3.7.1"
  }
 },
 "nbformat": 4,
 "nbformat_minor": 2
}
