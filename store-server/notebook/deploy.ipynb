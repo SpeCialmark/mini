{
 "cells": [
  {
   "cell_type": "code",
   "execution_count": 4,
   "metadata": {},
   "outputs": [],
   "source": [
    "from ipywidgets import interact, interactive, fixed, interact_manual\n",
    "import ipywidgets as widgets\n",
    "from pprint import pprint"
   ]
  },
  {
   "cell_type": "code",
   "execution_count": 5,
   "metadata": {},
   "outputs": [],
   "source": [
    "import requests\n",
    "base_url = 'https://store.11train.com/api/v1'"
   ]
  },
  {
   "cell_type": "markdown",
   "metadata": {},
   "source": [
    "## 登录"
   ]
  },
  {
   "cell_type": "code",
   "execution_count": 9,
   "metadata": {},
   "outputs": [],
   "source": [
    "# biz_user_phone = '18688967466'\n",
    "biz_user_phone = '15807610521'"
   ]
  },
  {
   "cell_type": "code",
   "execution_count": 10,
   "metadata": {},
   "outputs": [
    {
     "name": "stdout",
     "output_type": "stream",
     "text": [
      "{'role': 'biz_user',\n",
      " 'token': 'f829acbb339deb1eb2dfb6f134c530f5',\n",
      " 'user': {'id': 'ag', 'phone_number': '15807610521'}}\n"
     ]
    }
   ],
   "source": [
    "data = {\n",
    "'phone_number': biz_user_phone,\n",
    "# 'password': 'onepiece29'\n",
    "'password': 'yilijianshen'\n",
    "}\n",
    "r = requests.post(\n",
    "    base_url + '/biz_user/login', json=data)\n",
    "pprint(r.json())\n",
    "user_headers = {'token': r.json().get('token')}"
   ]
  },
  {
   "cell_type": "markdown",
   "metadata": {},
   "source": [
    "# 获取所有的小程序"
   ]
  },
  {
   "cell_type": "code",
   "execution_count": 11,
   "metadata": {},
   "outputs": [
    {
     "name": "stdout",
     "output_type": "stream",
     "text": [
      "{'biz_list': [{'apps': [{'head_img': 'http://wx.qlogo.cn/mmopen/W6GpibnEjicRQa3Ficu8SgjGMrzhrlgRdJ2K4iaQicQIsswicW4UYupMnC6wI163VKa6QeNMQ2mKPtGozrWa4AlJT26qmlic0D9LX83/0',\n",
      "                         'id': 'Q5',\n",
      "                         'mark': 'customer',\n",
      "                         'nick_name': '毅力私人订制健身',\n",
      "                         'status': '已上线'},\n",
      "                        {'head_img': 'http://wx.qlogo.cn/mmopen/Y7AvBg7QQGey5Rbc3TibWOpupcY98LiagYk18SyDShWbnVwDfHjwym35Du70gttA8CcR6dckt6alZeupDyexOXJk5nr0lLvJrk/0',\n",
      "                         'id': 'Ra',\n",
      "                         'mark': 'coach',\n",
      "                         'nick_name': '毅力教练助手',\n",
      "                         'status': '已上线'}],\n",
      "               'id': '29',\n",
      "               'name': '毅力健身'}]}\n"
     ]
    }
   ],
   "source": [
    "r = requests.get(\n",
    "        base_url + '/biz_list', headers=user_headers)\n",
    "pprint(r.json())"
   ]
  },
  {
   "cell_type": "markdown",
   "metadata": {},
   "source": [
    "# 获取小程序的上线流程"
   ]
  },
  {
   "cell_type": "code",
   "execution_count": 12,
   "metadata": {},
   "outputs": [
    {
     "name": "stdout",
     "output_type": "stream",
     "text": [
      "{'actions': [{'action': 'set_template',\n",
      "              'attachment': {'template': {'id': 2, 'title': '11练小助手'}},\n",
      "              'msg': ['已通过'],\n",
      "              'status': 1,\n",
      "              'time': '7月17日 18:13'},\n",
      "             {'action': 'set_db',\n",
      "              'attachment': None,\n",
      "              'msg': ['设置数据库成功'],\n",
      "              'status': 1,\n",
      "              'time': '7月17日 18:13'},\n",
      "             {'action': 'check_info',\n",
      "              'attachment': None,\n",
      "              'msg': ['已通过'],\n",
      "              'status': 1,\n",
      "              'time': '7月17日 18:13'},\n",
      "             {'action': 'commit',\n",
      "              'attachment': {'qrcode': {'name': '体验版',\n",
      "                                        'url': 'http://oss.11train.com/b/vuv71mwhc7e1cbz8/qr/experience.jpg'}},\n",
      "              'msg': ['已通过'],\n",
      "              'status': 1,\n",
      "              'time': '7月17日 18:13'},\n",
      "             {'action': 'submit',\n",
      "              'attachment': None,\n",
      "              'errmsg': ['提交审核失败已经有正在审核的版本'],\n",
      "              'status': -1,\n",
      "              'time': '7月17日 18:13'},\n",
      "             {'action': 'audit',\n",
      "              'attachment': None,\n",
      "              'msg': ['已通过'],\n",
      "              'status': 1,\n",
      "              'time': '7月17日 19:14'},\n",
      "             {'action': 'release',\n",
      "              'attachment': {'qrcode': {'name': '正式版',\n",
      "                                        'url': 'http://oss.11train.com/b/vuv71mwhc7e1cbz8/qr/release.jpg'}},\n",
      "              'msg': ['已通过'],\n",
      "              'status': 1,\n",
      "              'time': '7月17日 19:14'}]}\n"
     ]
    }
   ],
   "source": [
    "biz_hid = '29'\n",
    "app_hid = 'Ra'\n",
    "r = requests.get(base_url + '/biz_list/{biz_hid}/apps/{app_hid}/actions'.format(biz_hid=biz_hid,app_hid=app_hid), headers=user_headers)\n",
    "pprint(r.json())"
   ]
  },
  {
   "cell_type": "markdown",
   "metadata": {},
   "source": [
    "# 设置模板"
   ]
  },
  {
   "cell_type": "code",
   "execution_count": 13,
   "metadata": {},
   "outputs": [
    {
     "name": "stdout",
     "output_type": "stream",
     "text": [
      "{'actions': [{'action': 'set_template',\n",
      "              'attachment': {'template': {'id': 2, 'title': '11练小助手'}},\n",
      "              'msg': ['已通过'],\n",
      "              'status': 1,\n",
      "              'time': '7月19日 16:08'},\n",
      "             {'action': 'set_db',\n",
      "              'attachment': None,\n",
      "              'msg': ['设置数据库成功'],\n",
      "              'status': 1,\n",
      "              'time': '7月19日 16:08'},\n",
      "             {'action': 'check_info',\n",
      "              'attachment': None,\n",
      "              'msg': ['已通过'],\n",
      "              'status': 1,\n",
      "              'time': '7月19日 16:08'},\n",
      "             {'action': 'commit',\n",
      "              'attachment': {'qrcode': {'name': '体验版',\n",
      "                                        'url': 'http://oss.11train.com/b/vuv71mwhc7e1cbz8/qr/experience.jpg'}},\n",
      "              'msg': ['已通过'],\n",
      "              'status': 1,\n",
      "              'time': '7月19日 16:08'},\n",
      "             {'action': 'submit',\n",
      "              'attachment': None,\n",
      "              'errmsg': ['提交审核失败已经有正在审核的版本'],\n",
      "              'status': -1,\n",
      "              'time': '7月17日 18:13'},\n",
      "             {'action': 'audit',\n",
      "              'attachment': None,\n",
      "              'msg': ['已通过'],\n",
      "              'status': 1,\n",
      "              'time': '7月17日 19:14'},\n",
      "             {'action': 'release',\n",
      "              'attachment': {'qrcode': {'name': '正式版',\n",
      "                                        'url': 'http://oss.11train.com/b/vuv71mwhc7e1cbz8/qr/release.jpg'}},\n",
      "              'msg': ['已通过'],\n",
      "              'status': 1,\n",
      "              'time': '7月17日 19:14'}]}\n"
     ]
    }
   ],
   "source": [
    "biz_hid = '29'\n",
    "app_hid = 'Ra'\n",
    "json_data = {\n",
    "    'template_id': 2\n",
    "}\n",
    "r = requests.post(\n",
    "    base_url + '/biz_list/{biz_hid}/apps/{app_hid}/actions/set_template'.format(biz_hid=biz_hid,app_hid=app_hid),\n",
    "    json=json_data, headers=user_headers)\n",
    "pprint(r.json())"
   ]
  },
  {
   "cell_type": "markdown",
   "metadata": {},
   "source": [
    "# 提交审核"
   ]
  },
  {
   "cell_type": "code",
   "execution_count": 14,
   "metadata": {},
   "outputs": [
    {
     "name": "stdout",
     "output_type": "stream",
     "text": [
      "{'actions': [{'action': 'set_template',\n",
      "              'attachment': {'template': {'id': 2, 'title': '11练小助手'}},\n",
      "              'msg': ['已通过'],\n",
      "              'status': 1,\n",
      "              'time': '7月19日 16:08'},\n",
      "             {'action': 'set_db',\n",
      "              'attachment': None,\n",
      "              'msg': ['设置数据库成功'],\n",
      "              'status': 1,\n",
      "              'time': '7月19日 16:08'},\n",
      "             {'action': 'check_info',\n",
      "              'attachment': None,\n",
      "              'msg': ['已通过'],\n",
      "              'status': 1,\n",
      "              'time': '7月19日 16:08'},\n",
      "             {'action': 'commit',\n",
      "              'attachment': {'qrcode': {'name': '体验版',\n",
      "                                        'url': 'http://oss.11train.com/b/vuv71mwhc7e1cbz8/qr/experience.jpg'}},\n",
      "              'msg': ['已通过'],\n",
      "              'status': 1,\n",
      "              'time': '7月19日 16:08'},\n",
      "             {'action': 'submit',\n",
      "              'attachment': None,\n",
      "              'msg': ['已通过'],\n",
      "              'status': 1,\n",
      "              'time': '7月19日 16:08'},\n",
      "             {'action': 'audit',\n",
      "              'attachment': None,\n",
      "              'msg': ['已通过'],\n",
      "              'status': 1,\n",
      "              'time': '7月17日 19:14'},\n",
      "             {'action': 'release',\n",
      "              'attachment': {'qrcode': {'name': '正式版',\n",
      "                                        'url': 'http://oss.11train.com/b/vuv71mwhc7e1cbz8/qr/release.jpg'}},\n",
      "              'msg': ['已通过'],\n",
      "              'status': 1,\n",
      "              'time': '7月17日 19:14'}]}\n"
     ]
    }
   ],
   "source": [
    "biz_hid = '29'\n",
    "app_hid = 'Ra'\n",
    "r = requests.post(\n",
    "        base_url + '/biz_list/{biz_hid}/apps/{app_hid}/actions/submit'.format(biz_hid=biz_hid,app_hid=app_hid), headers=user_headers)\n",
    "pprint(r.json())"
   ]
  },
  {
   "cell_type": "markdown",
   "metadata": {},
   "source": [
    "# 查询最新一次提交的审核状态"
   ]
  },
  {
   "cell_type": "markdown",
   "metadata": {},
   "source": [
    "### status审核状态，其中0为审核成功，1为审核失败，2为审核中"
   ]
  },
  {
   "cell_type": "code",
   "execution_count": 15,
   "metadata": {},
   "outputs": [
    {
     "name": "stdout",
     "output_type": "stream",
     "text": [
      "{'latest_audit_status': {'auditid': 507732099,\n",
      "                         'errcode': 0,\n",
      "                         'errmsg': 'ok',\n",
      "                         'status': 2}}\n"
     ]
    }
   ],
   "source": [
    "biz_hid = '29'\n",
    "app_hid = 'Ra'\n",
    "r = requests.get(\n",
    "        base_url + '/biz_list/{biz_hid}/apps/{app_hid}/latest_audit_status'.format(biz_hid=biz_hid,app_hid=app_hid), headers=user_headers)\n",
    "pprint(r.json())"
   ]
  },
  {
   "cell_type": "markdown",
   "metadata": {},
   "source": [
    "# 发布"
   ]
  },
  {
   "cell_type": "code",
   "execution_count": 68,
   "metadata": {},
   "outputs": [
    {
     "name": "stdout",
     "output_type": "stream",
     "text": [
      "{'actions': [{'action': 'set_template',\n",
      "              'attachment': {'template': {'id': 2, 'title': '11练小助手'}},\n",
      "              'msg': ['已通过'],\n",
      "              'status': 1,\n",
      "              'time': '7月16日 21:53'},\n",
      "             {'action': 'set_db',\n",
      "              'attachment': None,\n",
      "              'msg': ['设置数据库成功'],\n",
      "              'status': 1,\n",
      "              'time': '7月16日 21:53'},\n",
      "             {'action': 'check_info',\n",
      "              'attachment': None,\n",
      "              'msg': ['已通过'],\n",
      "              'status': 1,\n",
      "              'time': '7月16日 21:53'},\n",
      "             {'action': 'commit',\n",
      "              'attachment': {'qrcode': {'name': '体验版',\n",
      "                                        'url': 'http://oss.11train.com/b/brrezr8rhw8chmvh/qr/experience.jpg'}},\n",
      "              'msg': ['已通过'],\n",
      "              'status': 1,\n",
      "              'time': '7月16日 21:53'},\n",
      "             {'action': 'submit',\n",
      "              'attachment': None,\n",
      "              'msg': ['已通过'],\n",
      "              'status': 1,\n",
      "              'time': '7月16日 21:53'},\n",
      "             {'action': 'audit', 'status': 0},\n",
      "             {'action': 'release',\n",
      "              'attachment': {'qrcode': {'name': '正式版',\n",
      "                                        'url': 'http://oss.11train.com/b/brrezr8rhw8chmvh/qr/release.jpg'}},\n",
      "              'msg': ['已通过'],\n",
      "              'status': 1,\n",
      "              'time': '7月17日 09:37'}]}\n"
     ]
    }
   ],
   "source": [
    "biz_hid = 'dO'\n",
    "app_hid = 'GA'\n",
    "r = requests.post(\n",
    "        base_url + '/biz_list/{biz_hid}/apps/{app_hid}/actions/release'.format(biz_hid=biz_hid,app_hid=app_hid), headers=user_headers)\n",
    "pprint(r.json())"
   ]
  },
  {
   "cell_type": "markdown",
   "metadata": {},
   "source": [
    "# 获取打卡小程序码"
   ]
  },
  {
   "cell_type": "code",
   "execution_count": 93,
   "metadata": {},
   "outputs": [
    {
     "name": "stdout",
     "output_type": "stream",
     "text": [
      "{'qrcode': {'name': '打卡小程序码',\n",
      "            'url': 'http://oss.11train.com/b/a1kbm81ku89c19ee/qr/checkIn.jpg'}}\n"
     ]
    }
   ],
   "source": [
    "biz_hid = '29'\n",
    "app_hid = 'Q5'\n",
    "r = requests.post(\n",
    "        base_url + '/biz_list/{biz_hid}/apps/{app_hid}/qrcodes/check_in'.format(biz_hid=biz_hid,app_hid=app_hid), headers=user_headers)\n",
    "pprint(r.json())"
   ]
  }
 ],
 "metadata": {
  "kernelspec": {
   "display_name": "Python 3",
   "language": "python",
   "name": "python3"
  },
  "language_info": {
   "codemirror_mode": {
    "name": "ipython",
    "version": 3
   },
   "file_extension": ".py",
   "mimetype": "text/x-python",
   "name": "python",
   "nbconvert_exporter": "python",
   "pygments_lexer": "ipython3",
   "version": "3.6.5"
  }
 },
 "nbformat": 4,
 "nbformat_minor": 2
}
