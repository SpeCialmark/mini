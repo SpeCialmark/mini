{
 "cells": [
  {
   "cell_type": "code",
   "execution_count": 2,
   "metadata": {},
   "outputs": [],
   "source": [
    "import requests\n",
    "import requests\n",
    "from pprint import pprint\n",
    "from IPython.display import JSON"
   ]
  },
  {
   "cell_type": "code",
   "execution_count": 3,
   "metadata": {},
   "outputs": [],
   "source": [
    "base_url = 'https://store.11train.com/api/v1'\n",
    "token_format = '{phone_number}:{sms_code}'\n",
    "action_url = base_url + '/codebase/templates/{template_id}/apps/actions/{action}'"
   ]
  },
  {
   "cell_type": "code",
   "execution_count": 5,
   "metadata": {},
   "outputs": [],
   "source": [
    "admin_header = {}"
   ]
  },
  {
   "cell_type": "code",
   "execution_count": 205,
   "metadata": {},
   "outputs": [],
   "source": [
    "phone_number = '18688967466'\n",
    "# phone_number = '18589059214'"
   ]
  },
  {
   "cell_type": "markdown",
   "metadata": {},
   "source": [
    "# 获取验证码"
   ]
  },
  {
   "cell_type": "code",
   "execution_count": 67,
   "metadata": {},
   "outputs": [
    {
     "name": "stdout",
     "output_type": "stream",
     "text": [
      "{'msg': '短信已发送, 请注意查收.', 'token_format': '{phone_number}:{sms_code}'}\n"
     ]
    }
   ],
   "source": [
    "r = requests.post(base_url + '/user/admin_login/' + phone_number)\n",
    "pprint(r.json())"
   ]
  },
  {
   "cell_type": "markdown",
   "metadata": {},
   "source": [
    "# 设置管理员TOKEN"
   ]
  },
  {
   "cell_type": "code",
   "execution_count": 211,
   "metadata": {},
   "outputs": [
    {
     "name": "stdout",
     "output_type": "stream",
     "text": [
      "{'token': '18688967466:312228'}\n"
     ]
    }
   ],
   "source": [
    "sms_code = '312228'     # 查看手机\n",
    "admin_header = {\n",
    "    'token': token_format.format(phone_number=phone_number, sms_code=sms_code)\n",
    "}\n",
    "pprint(admin_header)"
   ]
  },
  {
   "cell_type": "markdown",
   "metadata": {},
   "source": [
    "# 获取所有模板"
   ]
  },
  {
   "cell_type": "code",
   "execution_count": 212,
   "metadata": {},
   "outputs": [
    {
     "data": {
      "application/json": {
       "templates": [
        {
         "created_at": "6月19日 17:39",
         "description": "Give me five",
         "ext_json_format": {
          "directCommit": true,
          "ext": {
           "app_id": "{app_id}",
           "attr": {},
           "envVersion": "release",
           "name": "gym store",
           "reservationToshop": "true",
           "title": "{app_name}",
           "version": "{version}"
          },
          "extAppid": "{app_id}",
          "extEnable": true,
          "window": {
           "backgroundColor": "#f8f8f8",
           "navigationBarBackgroundColor": "#38373d",
           "navigationBarTextStyle": "white",
           "navigationBarTitleText": "{app_name}"
          }
         },
         "id": 1,
         "modified_at": "1月9日 16:53",
         "name": "base",
         "params_desc": {
          "app_id": "app_id",
          "app_name": "标题"
         },
         "title": "客户端",
         "version": "2.1.9",
         "wx_template_id": 137
        },
        {
         "created_at": "6月22日 14:56",
         "description": null,
         "ext_json_format": {
          "directCommit": true,
          "ext": {
           "app_id": "{app_id}",
           "attr": {},
           "envVersion": "release",
           "name": "gym store helper",
           "title": "{app_name}",
           "version": "{version}"
          },
          "extAppid": "{app_id}",
          "extEnable": true,
          "window": {
           "backgroundColor": "#f8f8f8",
           "navigationBarBackgroundColor": "#38373d",
           "navigationBarTextStyle": "white",
           "navigationBarTitleText": "{app_name}"
          }
         },
         "id": 2,
         "modified_at": "1月10日 17:01",
         "name": "base helper",
         "params_desc": null,
         "title": "小助手",
         "version": "1.1.10",
         "wx_template_id": 140
        },
        {
         "created_at": "7月17日 15:14",
         "description": null,
         "ext_json_format": {
          "directCommit": true,
          "ext": {
           "app_id": "{app_id}",
           "attr": {},
           "envVersion": "release",
           "name": "gym store",
           "title": "{app_name}",
           "version": "{version}"
          },
          "extAppid": "{app_id}",
          "extEnable": true,
          "tabBar": {
           "backgroundColor": "#ffffff",
           "borderStyle": "black",
           "color": "#bfbfbf",
           "list": [
            {
             "iconPath": "./images/home.png",
             "pagePath": "pages/home/index",
             "selectedIconPath": "./images/home-active.png",
             "text": "首页"
            },
            {
             "iconPath": "./images/course.png",
             "pagePath": "pages/course/index",
             "selectedIconPath": "./images/course-active.png",
             "text": "课程"
            },
            {
             "iconPath": "./images/feed.png",
             "pagePath": "pages/feed/index",
             "selectedIconPath": "./images/feed-active.png",
             "text": "动态"
            },
            {
             "iconPath": "./images/coach.png",
             "pagePath": "pages/coach/coachSolo",
             "selectedIconPath": "./images/coach-active.png",
             "text": "教练"
            },
            {
             "iconPath": "./images/me.png",
             "pagePath": "pages/user/index",
             "selectedIconPath": "./images/me-active.png",
             "text": "我"
            }
           ],
           "selectedColor": "#2c2c2c"
          },
          "window": {
           "backgroundColor": "#f8f8f8",
           "navigationBarBackgroundColor": "#38373d",
           "navigationBarTextStyle": "white",
           "navigationBarTitleText": "{app_name}"
          }
         },
         "id": 3,
         "modified_at": "8月1日 16:42",
         "name": "solo coach",
         "params_desc": null,
         "title": "高级版个人版",
         "version": "2.8.1",
         "wx_template_id": 46
        },
        {
         "created_at": "12月15日 18:15",
         "description": null,
         "ext_json_format": {
          "directCommit": true,
          "ext": {
           "app_id": "{app_id}",
           "attr": {},
           "envVersion": "release",
           "name": "gym store",
           "reservationToshop": "true",
           "title": "{app_name}",
           "version": "{version}"
          },
          "extAppid": "{app_id}",
          "extEnable": true,
          "window": {
           "backgroundColor": "#f8f8f8",
           "navigationBarBackgroundColor": "#38373d",
           "navigationBarTextStyle": "white",
           "navigationBarTitleText": "{app_name}"
          }
         },
         "id": 5,
         "modified_at": "1月9日 11:00",
         "name": "boss",
         "params_desc": null,
         "title": "boss管理端",
         "version": "3.1.9",
         "wx_template_id": 139
        },
        {
         "created_at": "8月8日 09:30",
         "description": null,
         "ext_json_format": {
          "directCommit": true,
          "ext": {
           "app_id": "{app_id}",
           "attr": {},
           "envVersion": "release",
           "name": "gym store",
           "title": "{app_name}",
           "version": "{version}"
          },
          "extAppid": "{app_id}",
          "extEnable": true,
          "tabBar": {
           "backgroundColor": "#ffffff",
           "borderStyle": "black",
           "color": "#bfbfbf",
           "list": [
            {
             "iconPath": "./images/home.png",
             "pagePath": "pages/home/index",
             "selectedIconPath": "./images/home-active.png",
             "text": "首页"
            },
            {
             "iconPath": "./images/course.png",
             "pagePath": "pages/course/index",
             "selectedIconPath": "./images/course-active.png",
             "text": "课程"
            },
            {
             "iconPath": "./images/feed.png",
             "pagePath": "pages/feed/index",
             "selectedIconPath": "./images/feed-active.png",
             "text": "动态"
            },
            {
             "iconPath": "./images/coach.png",
             "pagePath": "pages/coach/index",
             "selectedIconPath": "./images/coach-active.png",
             "text": "教练"
            },
            {
             "iconPath": "./images/me.png",
             "pagePath": "pages/user/index",
             "selectedIconPath": "./images/me-active.png",
             "text": "我"
            }
           ],
           "selectedColor": "#2c2c2c"
          },
          "window": {
           "backgroundColor": "#f8f8f8",
           "navigationBarBackgroundColor": "#38373d",
           "navigationBarTextStyle": "white",
           "navigationBarTitleText": "{app_name}"
          }
         },
         "id": 4,
         "modified_at": "1月9日 11:00",
         "name": "coach",
         "params_desc": null,
         "title": "高级版无团课多教练版",
         "version": "2.1.9",
         "wx_template_id": 137
        }
       ]
      },
      "text/plain": [
       "<IPython.core.display.JSON object>"
      ]
     },
     "execution_count": 212,
     "metadata": {
      "application/json": {
       "expanded": false,
       "root": "root"
      }
     },
     "output_type": "execute_result"
    }
   ],
   "source": [
    "r = requests.get(base_url + '/codebase/templates', headers=admin_header)\n",
    "JSON(r.json(), expanded=False)"
   ]
  },
  {
   "cell_type": "markdown",
   "metadata": {},
   "source": [
    "# 获取模板下的所有小程序"
   ]
  },
  {
   "cell_type": "code",
   "execution_count": 197,
   "metadata": {},
   "outputs": [
    {
     "data": {
      "application/json": {
       "apps": [
        {
         "app_id": "wx826f1ae91f4ea0a3",
         "nick_name": "美航BOSS端",
         "release_result": {
          "errcode": [],
          "errmsg": []
         }
        }
       ]
      },
      "text/plain": [
       "<IPython.core.display.JSON object>"
      ]
     },
     "execution_count": 197,
     "metadata": {
      "application/json": {
       "expanded": true,
       "root": "root"
      }
     },
     "output_type": "execute_result"
    }
   ],
   "source": [
    "template_id = 5\n",
    "url = base_url + '/codebase/templates/{template_id}/apps'.format(template_id=template_id)\n",
    "# params里面的参数是可选的, 当app_id有设置的话, 那么限制在列表内, 列表字符串用逗号分割,不要加空格. released默认是1, 也是限制已经上线的, 输入其他数值, 就不做限制了.\n",
    "params = {\n",
    "#     'app_id':'wxa2133d52d24860d0',\n",
    "#       'app_id':'wx88dc546134fadd11,wx98efae0c44c194ba',\n",
    "#     'app_id':'wx5677962de035b09a,wx2dba8122e2ebdeee,wx748e6f97a0c8d95d,wx637060af75ab7cb7',\n",
    "   'released': 1\n",
    "}\n",
    "r = requests.get(url, headers=admin_header, params=params)\n",
    "JSON(r.json(), expanded=True)"
   ]
  },
  {
   "cell_type": "markdown",
   "metadata": {},
   "source": [
    "# 模板下的所有小程序的发布流程"
   ]
  },
  {
   "cell_type": "code",
   "execution_count": 198,
   "metadata": {},
   "outputs": [
    {
     "data": {
      "application/json": {
       "apps_actions": [
        {
         "actions": [
          {
           "action": "set_template",
           "status": 0
          },
          {
           "action": "set_db",
           "status": 0
          },
          {
           "action": "check_info",
           "attachment": null,
           "msg": [
            "已通过"
           ],
           "status": 1,
           "time": "1月4日 17:50"
          },
          {
           "action": "commit",
           "attachment": {
            "qrcode": {
             "name": "体验版",
             "url": "https://oss.11train.com/b/mk97behab78heuer/qr/experience.jpg"
            }
           },
           "msg": [
            "已通过"
           ],
           "status": 1,
           "time": "1月4日 17:50"
          },
          {
           "action": "submit",
           "attachment": null,
           "msg": [
            "已通过"
           ],
           "status": 1,
           "time": "1月4日 17:50"
          },
          {
           "action": "audit",
           "attachment": null,
           "msg": [
            "已通过"
           ],
           "status": 1,
           "time": "1月5日 17:19"
          },
          {
           "action": "release",
           "attachment": {
            "qrcode": {
             "name": "正式版",
             "url": "https://oss.11train.com/b/mk97behab78heuer/qr/release.jpg"
            }
           },
           "msg": [
            "已通过"
           ],
           "status": 1,
           "time": "1月5日 17:19"
          }
         ],
         "app_id": "wx826f1ae91f4ea0a3",
         "nick_name": "美航BOSS端"
        }
       ]
      },
      "text/plain": [
       "<IPython.core.display.JSON object>"
      ]
     },
     "execution_count": 198,
     "metadata": {
      "application/json": {
       "expanded": false,
       "root": "root"
      }
     },
     "output_type": "execute_result"
    }
   ],
   "source": [
    "template_id = 5\n",
    "url = base_url + '/codebase/templates/{template_id}/apps/actions'.format(template_id=template_id)\n",
    "# params里面的参数是可选的, 当app_id有设置的话, 那么限制在列表内, 列表字符串用逗号分割,不要加空格. released默认是1, 也是限制已经上线的, 输入其他数值, 就不做限制了.\n",
    "params = {\n",
    "#     'app_id':'wxa2133d52d24860d0',\n",
    "#       'app_id':'wx88dc546134fadd11,wx98efae0c44c194ba',\n",
    "#        'app_id':'wx5677962de035b09a,wx2dba8122e2ebdeee,wx748e6f97a0c8d95d,wx637060af75ab7cb7',\n",
    "   'released': 1\n",
    "}\n",
    "r = requests.get(url, headers=admin_header, params=params)\n",
    "JSON(r.json(), expanded=False)"
   ]
  },
  {
   "cell_type": "markdown",
   "metadata": {},
   "source": [
    "# 模板下的所有小程序检查信息"
   ]
  },
  {
   "cell_type": "code",
   "execution_count": 199,
   "metadata": {},
   "outputs": [
    {
     "data": {
      "application/json": {
       "check_info_actions": [
        {
         "app_id": "wx826f1ae91f4ea0a3",
         "check_info_action": {
          "action": "check_info",
          "attachment": null,
          "msg": [
           "已通过"
          ],
          "status": 1,
          "time": "1月9日 11:04"
         },
         "nick_name": "美航BOSS端"
        }
       ]
      },
      "text/plain": [
       "<IPython.core.display.JSON object>"
      ]
     },
     "execution_count": 199,
     "metadata": {
      "application/json": {
       "expanded": true,
       "root": "root"
      }
     },
     "output_type": "execute_result"
    }
   ],
   "source": [
    "template_id = 5\n",
    "action = 'check_info'  # 提交代码\n",
    "# params里面的参数是可选的, 当app_id有设置的话, 那么限制在列表内, 列表字符串用逗号分割,不要加空格. released默认是1, 也是限制已经上线的, 输入其他数值, 就不做限制了.\n",
    "params = {\n",
    "#     'app_id':'wxa2133d52d24860d0',\n",
    "#       'app_id':'wx88dc546134fadd11,wx98efae0c44c194ba',\n",
    "#        'app_id':'wx5677962de035b09a,wx2dba8122e2ebdeee,wx748e6f97a0c8d95d,wx637060af75ab7cb7',\n",
    "    'released': 1\n",
    "}\n",
    "url = action_url.format(template_id=template_id, action=action)\n",
    "r = requests.post(url, headers=admin_header, params=params)\n",
    "JSON(r.json(), expanded=True)"
   ]
  },
  {
   "cell_type": "markdown",
   "metadata": {},
   "source": [
    "# 模板下的所有小程序提交代码"
   ]
  },
  {
   "cell_type": "code",
   "execution_count": 213,
   "metadata": {},
   "outputs": [
    {
     "data": {
      "application/json": {
       "commit_actions": [
        {
         "app_id": "wx88dc546134fadd11",
         "commit_action": {
          "action": "commit",
          "attachment": {
           "qrcode": {
            "name": "体验版",
            "url": "https://oss.11train.com/b/mmzcw89br87ezzbb/qr/experience.jpg"
           }
          },
          "msg": [
           "已通过"
          ],
          "status": 1,
          "time": "1月10日 17:03"
         },
         "nick_name": "教练助手美航宝体店"
        },
        {
         "app_id": "wx0ddadd23a437e946",
         "commit_action": {
          "action": "commit",
          "attachment": {
           "qrcode": {
            "name": "体验版",
            "url": "https://oss.11train.com/b/uzzezzkre8rvha89/qr/experience.jpg"
           }
          },
          "msg": [
           "已通过"
          ],
          "status": 1,
          "time": "1月10日 17:03"
         },
         "nick_name": "777国际健身教练端"
        },
        {
         "app_id": "wx133ad343e54ce87e",
         "commit_action": {
          "action": "commit",
          "attachment": {
           "qrcode": {
            "name": "体验版",
            "url": "https://oss.11train.com/b/brrezr8rhw8chmvh/qr/experience.jpg"
           }
          },
          "msg": [
           "已通过"
          ],
          "status": 1,
          "time": "1月10日 17:03"
         },
         "nick_name": "11练教练助手"
        },
        {
         "app_id": "wx707fb85ecfabc1d4",
         "commit_action": {
          "action": "commit",
          "attachment": {
           "qrcode": {
            "name": "体验版",
            "url": "https://oss.11train.com/b/vuv71mwhc7e1cbz8/qr/experience.jpg"
           }
          },
          "msg": [
           "已通过"
          ],
          "status": 1,
          "time": "1月10日 17:03"
         },
         "nick_name": "毅力教练助手"
        },
        {
         "app_id": "wx98efae0c44c194ba",
         "commit_action": {
          "action": "commit",
          "attachment": {
           "qrcode": {
            "name": "体验版",
            "url": "https://oss.11train.com/b/amh7ehuc88cba81e/qr/experience.jpg"
           }
          },
          "msg": [
           "已通过"
          ],
          "status": 1,
          "time": "1月10日 17:03"
         },
         "nick_name": "美航教练助手"
        },
        {
         "app_id": "wx3d021b62c06a1018",
         "commit_action": {
          "action": "commit",
          "attachment": {
           "qrcode": {
            "name": "体验版",
            "url": "https://oss.11train.com/b/rzukb19kcu9ebubm/qr/experience.jpg"
           }
          },
          "msg": [
           "已通过"
          ],
          "status": 1,
          "time": "1月10日 17:03"
         },
         "nick_name": "文凯健身教练助手"
        },
        {
         "app_id": "wx0aeab735dfb96652",
         "commit_action": {
          "action": "commit",
          "attachment": {
           "qrcode": {
            "name": "体验版",
            "url": "https://oss.11train.com/b/uehe1vrwz71a99wk/qr/experience.jpg"
           }
          },
          "msg": [
           "已通过"
          ],
          "status": 1,
          "time": "1月10日 17:03"
         },
         "nick_name": "教练助手up西乡店"
        },
        {
         "app_id": "wxc4652da4db49fd4c",
         "commit_action": {
          "action": "commit",
          "attachment": {
           "qrcode": {
            "name": "体验版",
            "url": "https://oss.11train.com/b/c89wkze8z18a7z8c/qr/experience.jpg"
           }
          },
          "msg": [
           "已通过"
          ],
          "status": 1,
          "time": "1月10日 17:03"
         },
         "nick_name": "教练助手超体宝安中心店"
        }
       ]
      },
      "text/plain": [
       "<IPython.core.display.JSON object>"
      ]
     },
     "execution_count": 213,
     "metadata": {
      "application/json": {
       "expanded": true,
       "root": "root"
      }
     },
     "output_type": "execute_result"
    }
   ],
   "source": [
    "template_id = 2\n",
    "action = 'commit'  # 提交代码\n",
    "# params里面的参数是可选的, 当app_id有设置的话, 那么限制在列表内, 列表字符串用逗号分割,不要加空格. released默认是1, 也是限制已经上线的, 输入其他数值, 就不做限制了.\n",
    "params = {\n",
    "#     'app_id':'wxa2133d52d24860d0',\n",
    "#     'app_id':'wx88dc546134fadd11,wx98efae0c44c194ba',\n",
    "#        'app_id':'wx5677962de035b09a,wx2dba8122e2ebdeee,wx748e6f97a0c8d95d,wx637060af75ab7cb7',\n",
    "    'released': 1\n",
    "}\n",
    "url = action_url.format(template_id=template_id, action=action)\n",
    "r = requests.post(url, headers=admin_header, params=params)\n",
    "JSON(r.json(), expanded=True)"
   ]
  },
  {
   "cell_type": "markdown",
   "metadata": {},
   "source": [
    "# 模板下的所有小程序提交审核"
   ]
  },
  {
   "cell_type": "code",
   "execution_count": 214,
   "metadata": {},
   "outputs": [
    {
     "data": {
      "application/json": {
       "submit_actions": [
        {
         "app_id": "wx88dc546134fadd11",
         "nick_name": "教练助手美航宝体店",
         "submit_action": {
          "action": "submit",
          "attachment": null,
          "msg": [
           "已通过"
          ],
          "status": 1,
          "time": "1月10日 17:04"
         }
        },
        {
         "app_id": "wx0ddadd23a437e946",
         "nick_name": "777国际健身教练端",
         "submit_action": {
          "action": "submit",
          "attachment": null,
          "msg": [
           "已通过"
          ],
          "status": 1,
          "time": "1月10日 17:04"
         }
        },
        {
         "app_id": "wx707fb85ecfabc1d4",
         "nick_name": "毅力教练助手",
         "submit_action": {
          "action": "submit",
          "attachment": null,
          "msg": [
           "已通过"
          ],
          "status": 1,
          "time": "1月10日 17:04"
         }
        },
        {
         "app_id": "wx133ad343e54ce87e",
         "nick_name": "11练教练助手",
         "submit_action": {
          "action": "submit",
          "attachment": null,
          "msg": [
           "已通过"
          ],
          "status": 1,
          "time": "1月10日 17:04"
         }
        },
        {
         "app_id": "wx3d021b62c06a1018",
         "nick_name": "文凯健身教练助手",
         "submit_action": {
          "action": "submit",
          "attachment": null,
          "msg": [
           "已通过"
          ],
          "status": 1,
          "time": "1月10日 17:04"
         }
        },
        {
         "app_id": "wx98efae0c44c194ba",
         "nick_name": "美航教练助手",
         "submit_action": {
          "action": "submit",
          "attachment": null,
          "msg": [
           "已通过"
          ],
          "status": 1,
          "time": "1月10日 17:04"
         }
        },
        {
         "app_id": "wx0aeab735dfb96652",
         "nick_name": "教练助手up西乡店",
         "submit_action": {
          "action": "submit",
          "attachment": null,
          "msg": [
           "已通过"
          ],
          "status": 1,
          "time": "1月10日 17:04"
         }
        },
        {
         "app_id": "wxc4652da4db49fd4c",
         "nick_name": "教练助手超体宝安中心店",
         "submit_action": {
          "action": "submit",
          "attachment": null,
          "msg": [
           "已通过"
          ],
          "status": 1,
          "time": "1月10日 17:04"
         }
        }
       ]
      },
      "text/plain": [
       "<IPython.core.display.JSON object>"
      ]
     },
     "execution_count": 214,
     "metadata": {
      "application/json": {
       "expanded": true,
       "root": "root"
      }
     },
     "output_type": "execute_result"
    }
   ],
   "source": [
    "template_id = 2\n",
    "action = 'submit'  \n",
    "# params里面的参数是可选的, 当app_id有设置的话, 那么限制在列表内, 列表字符串用逗号分割,不要加空格. released默认是1, 也是限制已经上线的, 输入其他数值, 就不做限制了.\n",
    "params = {\n",
    "#     'app_id':'wxa2133d52d24860d0',\n",
    "#       'app_id':'wx88dc546134fadd11,wx98efae0c44c194ba',\n",
    "#       'app_id':'wx5677962de035b09a,wx2dba8122e2ebdeee,wx748e6f97a0c8d95d,wx637060af75ab7cb7',\n",
    "   'released': 1\n",
    "}\n",
    "url = action_url.format(template_id=template_id, action=action)\n",
    "r = requests.post(url, headers=admin_header, params=params)\n",
    "JSON(r.json(), expanded=True)"
   ]
  },
  {
   "cell_type": "markdown",
   "metadata": {},
   "source": [
    "# 模板下的所有小程序最新一次提交的审核状态"
   ]
  },
  {
   "cell_type": "code",
   "execution_count": 70,
   "metadata": {},
   "outputs": [
    {
     "data": {
      "application/json": {
       "latest_audit_status": [
        {
         "app_id": "wx637060af75ab7cb7",
         "latest_audit_status": {
          "auditid": 447634811,
          "errcode": 0,
          "errmsg": "ok",
          "status": 2
         },
         "nick_name": "美航健身碧海店"
        },
        {
         "app_id": "wxa2133d52d24860d0",
         "latest_audit_status": {
          "auditid": 442795285,
          "errcode": 0,
          "errmsg": "ok",
          "status": 2
         },
         "nick_name": "11练健身房"
        },
        {
         "app_id": "wx2dba8122e2ebdeee",
         "latest_audit_status": {
          "auditid": 420570831,
          "errcode": 0,
          "errmsg": "ok",
          "status": 2
         },
         "nick_name": "超体健身宝安中心店"
        },
        {
         "app_id": "wx5677962de035b09a",
         "latest_audit_status": {
          "auditid": 464171522,
          "errcode": 0,
          "errmsg": "ok",
          "status": 2
         },
         "nick_name": "777国际健身会所"
        },
        {
         "app_id": "wx748e6f97a0c8d95d",
         "latest_audit_status": {
          "auditid": 491196607,
          "errcode": 0,
          "errmsg": "ok",
          "status": 2
         },
         "nick_name": "美航健身宝体店"
        }
       ]
      },
      "text/plain": [
       "<IPython.core.display.JSON object>"
      ]
     },
     "execution_count": 70,
     "metadata": {
      "application/json": {
       "expanded": true
      }
     },
     "output_type": "execute_result"
    }
   ],
   "source": [
    "template_id = 4\n",
    "url = base_url +'/codebase/templates/{template_id}/apps/latest_audit_status'.format(template_id=template_id)\n",
    "# params里面的参数是可选的, 当app_id有设置的话, 那么限制在列表内, 列表字符串用逗号分割,不要加空格. released默认是1, 也是限制已经上线的, 输入其他数值, 就不做限制了.\n",
    "params = {\n",
    "#     'app_id':'wxa2133d52d24860d0',\n",
    "#      'app_id':'wx5677962de035b09a,wx2dba8122e2ebdeee,wx748e6f97a0c8d95d,wx637060af75ab7cb7',\n",
    "   'released': 1\n",
    "}\n",
    "r = requests.get(url, headers=admin_header, params=params)\n",
    "JSON(r.json(), expanded=True)"
   ]
  },
  {
   "cell_type": "markdown",
   "metadata": {},
   "source": [
    "# 撤销模板下的所有小程序审核"
   ]
  },
  {
   "cell_type": "code",
   "execution_count": 118,
   "metadata": {},
   "outputs": [
    {
     "data": {
      "application/json": {
       "undo_code_audits": [
        {
         "app_id": "wx826f1ae91f4ea0a3",
         "errmsg": "成功",
         "nick_name": "美航BOSS端"
        }
       ]
      },
      "text/plain": [
       "<IPython.core.display.JSON object>"
      ]
     },
     "execution_count": 118,
     "metadata": {
      "application/json": {
       "expanded": true,
       "root": "root"
      }
     },
     "output_type": "execute_result"
    }
   ],
   "source": [
    "template_id = 5\n",
    "url = base_url +'/codebase/templates/{template_id}/apps/actions/undo_code_audit'.format(template_id=template_id)\n",
    "# params里面的参数是可选的, 当app_id有设置的话, 那么限制在列表内, 列表字符串用逗号分割,不要加空格. released默认是1, 也是限制已经上线的, 输入其他数值, 就不做限制了.\n",
    "params = {\n",
    "#     'app_id':'wxa2133d52d24860d0',\n",
    "#       'app_id':'wx0ddadd23a437e946,wx88dc546134fadd11,wx133ad343e54ce87e,wx98efae0c44c194ba',\n",
    "   'released': 1\n",
    "}\n",
    "# 由于接口中限制了每个账号每日只能撤回一次,因此有可能会撤回失败\n",
    "r = requests.post(url, headers=admin_header, params=params)\n",
    "JSON(r.json(), expanded=True)"
   ]
  },
  {
   "cell_type": "markdown",
   "metadata": {},
   "source": [
    "# 获取当前模板的ext_json"
   ]
  },
  {
   "cell_type": "code",
   "execution_count": 65,
   "metadata": {},
   "outputs": [
    {
     "data": {
      "application/json": {
       "ext_json": {
        "directCommit": true,
        "ext": {
         "app_id": "{app_id}",
         "attr": {},
         "envVersion": "release",
         "name": "gym store",
         "reservationToshop": "true",
         "title": "{app_name}",
         "version": "{version}"
        },
        "extAppid": "{app_id}",
        "extEnable": true,
        "window": {
         "backgroundColor": "#f8f8f8",
         "navigationBarBackgroundColor": "#38373d",
         "navigationBarTextStyle": "white",
         "navigationBarTitleText": "{app_name}"
        }
       }
      },
      "text/plain": [
       "<IPython.core.display.JSON object>"
      ]
     },
     "execution_count": 65,
     "metadata": {
      "application/json": {
       "expanded": true
      }
     },
     "output_type": "execute_result"
    }
   ],
   "source": [
    "template_id = 1\n",
    "url = base_url +'/codebase/templates/{t_id}/ext_json'.format(t_id=template_id)\n",
    "r = requests.get(url, headers=admin_header)\n",
    "JSON(r.json(), expanded=True)"
   ]
  }
 ],
 "metadata": {
  "kernelspec": {
   "display_name": "Python 3",
   "language": "python",
   "name": "python3"
  },
  "language_info": {
   "codemirror_mode": {
    "name": "ipython",
    "version": 3
   },
   "file_extension": ".py",
   "mimetype": "text/x-python",
   "name": "python",
   "nbconvert_exporter": "python",
   "pygments_lexer": "ipython3",
   "version": "3.7.1"
  }
 },
 "nbformat": 4,
 "nbformat_minor": 2
}
