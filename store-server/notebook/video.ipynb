{
 "cells": [
  {
   "cell_type": "code",
   "execution_count": 2,
   "metadata": {},
   "outputs": [],
   "source": [
    "import time\n",
    "import base64\n",
    "import hmac\n",
    "from hashlib import sha1 as sha\n",
    "import math\n",
    "from random import randint\n",
    "import requests\n",
    "import urllib\n",
    "from IPython.display import JSON"
   ]
  },
  {
   "cell_type": "code",
   "execution_count": 3,
   "metadata": {},
   "outputs": [],
   "source": [
    "secret_id = 'AKIDzOo5TC4bJrEUcap0TmureGhy40lQoDLO'\n",
    "secret_key = '150CJFF6mHeEteaRSr7LQNDtPDxWuIhw'"
   ]
  },
  {
   "cell_type": "code",
   "execution_count": 4,
   "metadata": {},
   "outputs": [
    {
     "data": {
      "text/plain": [
       "1538211962"
      ]
     },
     "execution_count": 4,
     "metadata": {},
     "output_type": "execute_result"
    }
   ],
   "source": [
    "current = int(time.time())\n",
    "current"
   ]
  },
  {
   "cell_type": "code",
   "execution_count": 34,
   "metadata": {},
   "outputs": [
    {
     "data": {
      "text/plain": [
       "1533959109"
      ]
     },
     "execution_count": 34,
     "metadata": {},
     "output_type": "execute_result"
    }
   ],
   "source": [
    "current"
   ]
  },
  {
   "cell_type": "code",
   "execution_count": 79,
   "metadata": {},
   "outputs": [
    {
     "data": {
      "text/plain": [
       "1534214013"
      ]
     },
     "execution_count": 79,
     "metadata": {},
     "output_type": "execute_result"
    }
   ],
   "source": [
    "current"
   ]
  },
  {
   "cell_type": "code",
   "execution_count": 5,
   "metadata": {},
   "outputs": [],
   "source": [
    "from QcloudApi.common import sign"
   ]
  },
  {
   "cell_type": "code",
   "execution_count": 13,
   "metadata": {},
   "outputs": [
    {
     "name": "stdout",
     "output_type": "stream",
     "text": [
      "ss=\n",
      "QeqfptI2//g0EH+C+t8yD1tZ87c=\n"
     ]
    },
    {
     "data": {
      "application/json": {
       "basicInfo": {
        "classificationId": 0,
        "classificationName": "其他",
        "coverUrl": "",
        "createTime": 1534160718,
        "description": "",
        "duration": 3,
        "expireTime": 0,
        "name": "来自小程序",
        "playerId": 370633,
        "region": "gzp",
        "size": 378151,
        "sourceContext": "",
        "sourceInfo": null,
        "sourceVideoUrl": "http://1257277811.vod2.myqcloud.com/5d7cf828vodgzp1257277811/642d4f4e5285890781089628300/wxx8NRZTYlUA.mp4",
        "status": "normal",
        "tags": [],
        "totalSize": 378151,
        "type": "mp4",
        "updateTime": 1534160721
       },
       "code": 0,
       "codeDesc": "Success",
       "message": "",
       "metaData": {
        "audioDuration": 0,
        "audioStreamList": [
         {
          "bitrate": 89642,
          "codec": "aac",
          "samplingRate": 44100
         }
        ],
        "bitrate": 839213,
        "container": "mov,mp4,m4a,3gp,3g2,mj2",
        "duration": 3,
        "floatDuration": 3.6223130226135,
        "height": 360,
        "md5": "",
        "rotate": 90,
        "size": 378151,
        "totalSize": 378151,
        "videoDuration": 0,
        "videoStreamList": [
         {
          "bitrate": 749571,
          "codec": "h264",
          "fps": 28,
          "height": 360,
          "width": 480
         }
        ],
        "width": 480
       },
       "transcodeInfo": {
        "idrAlignment": 0,
        "transcodeList": [
         {
          "audioStreamList": [
           {
            "bitrate": 89642,
            "codec": "aac",
            "samplingRate": 44100
           }
          ],
          "bitrate": 839213,
          "container": "mov,mp4,m4a,3gp,3g2,mj2",
          "definition": 0,
          "duration": 3,
          "floatDuration": 0,
          "height": 360,
          "md5": "",
          "size": 378151,
          "totalSize": 0,
          "url": "http://1257277811.vod2.myqcloud.com/5d7cf828vodgzp1257277811/642d4f4e5285890781089628300/wxx8NRZTYlUA.mp4",
          "videoStreamList": [
           {
            "bitrate": 749571,
            "codec": "h264",
            "fps": 28,
            "height": 360,
            "width": 480
           }
          ],
          "width": 480
         }
        ]
       }
      },
      "text/plain": [
       "<IPython.core.display.JSON object>"
      ]
     },
     "execution_count": 13,
     "metadata": {
      "application/json": {
       "expanded": false
      }
     },
     "output_type": "execute_result"
    }
   ],
   "source": [
    "current = int(time.time())\n",
    "# expired = current + 60 * 10  # 十分钟有效期\n",
    "nonce = randint(1, pow(2, 32))\n",
    "file_id = 5285890781089628300\n",
    "s = sign.Sign(secret_id, secret_key)\n",
    "params = {\n",
    "    'SecretId': secret_id,\n",
    "    'SignatureMethod': 'HmacSHA1',\n",
    "    'Nonce': nonce,\n",
    "    'Timestamp': current,\n",
    "    'Action': 'GetVideoInfo',\n",
    "    'fileId': file_id\n",
    "}\n",
    "ss = s.make('vod.api.qcloud.com', '/v2/index.php', params,\n",
    "            method='GET')\n",
    "print('ss=')\n",
    "print(ss)\n",
    "\n",
    "url = 'https://vod.api.qcloud.com/v2/index.php'\n",
    "params.update({'Signature': ss})\n",
    "r = requests.get(url, params)\n",
    "JSON(r.json())"
   ]
  },
  {
   "cell_type": "code",
   "execution_count": 8,
   "metadata": {},
   "outputs": [
    {
     "data": {
      "application/json": {
       "code": 0,
       "codeDesc": "Success",
       "eventList": [
        {
         "eventContent": {
          "data": {
           "coverUrl": "http://1257277811.vod2.myqcloud.com/11a49ad0vodtransgzp1257277811/5e8396275285890782031436830/1538031374_3062867785.100_0.jpg",
           "duration": 2,
           "fileId": "5285890782031436830",
           "fileName": "来自小程序",
           "message": "",
           "playSet": [
            {
             "definition": 0,
             "url": "http://1257277811.vod2.myqcloud.com/5d7cf828vodgzp1257277811/5e8396275285890782031436830/i5E4HWMfwJgA.mp4",
             "vbitrate": 269082,
             "vheight": 640,
             "vwidth": 360
            },
            {
             "definition": 30,
             "url": "http://1257277811.vod2.myqcloud.com/11a49ad0vodtransgzp1257277811/5e8396275285890782031436830/v.f30.mp4",
             "vbitrate": 781662,
             "vheight": 1280,
             "vwidth": 720
            },
            {
             "definition": 40,
             "url": "http://1257277811.vod2.myqcloud.com/11a49ad0vodtransgzp1257277811/5e8396275285890782031436830/v.f40.mp4",
             "vbitrate": 2070147,
             "vheight": 1920,
             "vwidth": 1080
            }
           ],
           "status": 0,
           "vodTaskId": "1257277811-transcode-b72561693e7b2208fb71dc5422733969"
          },
          "eventType": "TranscodeComplete",
          "version": "4.0"
         },
         "msgHandle": "8078100399705840390"
        },
        {
         "eventContent": {
          "data": {
           "coverUrl": "http://1257277811.vod2.myqcloud.com/11a49ad0vodtransgzp1257277811/609f2b695285890782031500867/1538031440_3642320700.100_0.jpg",
           "duration": 2,
           "fileId": "5285890782031500867",
           "fileName": "来自小程序",
           "message": "",
           "playSet": [
            {
             "definition": 0,
             "url": "http://1257277811.vod2.myqcloud.com/5d7cf828vodgzp1257277811/609f2b695285890782031500867/5fEa2hJyabsA.mp4",
             "vbitrate": 269082,
             "vheight": 640,
             "vwidth": 360
            },
            {
             "definition": 30,
             "url": "http://1257277811.vod2.myqcloud.com/11a49ad0vodtransgzp1257277811/609f2b695285890782031500867/v.f30.mp4",
             "vbitrate": 781662,
             "vheight": 1280,
             "vwidth": 720
            },
            {
             "definition": 40,
             "url": "http://1257277811.vod2.myqcloud.com/11a49ad0vodtransgzp1257277811/609f2b695285890782031500867/v.f40.mp4",
             "vbitrate": 2070147,
             "vheight": 1920,
             "vwidth": 1080
            }
           ],
           "status": 0,
           "vodTaskId": "1257277811-transcode-1d8afe5f4528c7e31432782c273cba75"
          },
          "eventType": "TranscodeComplete",
          "version": "4.0"
         },
         "msgHandle": "8078304095712038283"
        },
        {
         "eventContent": {
          "data": {
           "coverUrl": "http://1257277811.vod2.myqcloud.com/11a49ad0vodtransgzp1257277811/60ea31a75285890782031545253/1538031890_3769035803.100_0.jpg",
           "duration": 2,
           "fileId": "5285890782031545253",
           "fileName": "来自小程序",
           "message": "",
           "playSet": [
            {
             "definition": 0,
             "url": "http://1257277811.vod2.myqcloud.com/5d7cf828vodgzp1257277811/60ea31a75285890782031545253/lMhjuJ2I1igA.mp4",
             "vbitrate": 269082,
             "vheight": 640,
             "vwidth": 360
            },
            {
             "definition": 30,
             "url": "http://1257277811.vod2.myqcloud.com/11a49ad0vodtransgzp1257277811/60ea31a75285890782031545253/v.f30.mp4",
             "vbitrate": 781662,
             "vheight": 1280,
             "vwidth": 720
            },
            {
             "definition": 40,
             "url": "http://1257277811.vod2.myqcloud.com/11a49ad0vodtransgzp1257277811/60ea31a75285890782031545253/v.f40.mp4",
             "vbitrate": 2070147,
             "vheight": 1920,
             "vwidth": 1080
            }
           ],
           "status": 0,
           "vodTaskId": "1257277811-transcode-d2c656a5038d5275afabb29d5b017b5a"
          },
          "eventType": "TranscodeComplete",
          "version": "4.0"
         },
         "msgHandle": "8078073273221392815"
        },
        {
         "eventContent": {
          "data": {
           "coverUrl": "http://1257277811.vod2.myqcloud.com/11a49ad0vodtransgzp1257277811/60d9c26a5285890782031538344/1538031922_1839081961.100_0.jpg",
           "duration": 2,
           "fileId": "5285890782031538344",
           "fileName": "来自小程序",
           "message": "",
           "playSet": [
            {
             "definition": 0,
             "url": "http://1257277811.vod2.myqcloud.com/5d7cf828vodgzp1257277811/60d9c26a5285890782031538344/gCfdTJ7meSQA.mp4",
             "vbitrate": 269082,
             "vheight": 640,
             "vwidth": 360
            },
            {
             "definition": 30,
             "url": "http://1257277811.vod2.myqcloud.com/11a49ad0vodtransgzp1257277811/60d9c26a5285890782031538344/v.f30.mp4",
             "vbitrate": 781662,
             "vheight": 1280,
             "vwidth": 720
            },
            {
             "definition": 40,
             "url": "http://1257277811.vod2.myqcloud.com/11a49ad0vodtransgzp1257277811/60d9c26a5285890782031538344/v.f40.mp4",
             "vbitrate": 2070147,
             "vheight": 1920,
             "vwidth": 1080
            }
           ],
           "status": 0,
           "vodTaskId": "1257277811-transcode-a864c245e59d75e7a8dd0f7613c3c577"
          },
          "eventType": "TranscodeComplete",
          "version": "4.0"
         },
         "msgHandle": "8078308684482074084"
        },
        {
         "eventContent": {
          "data": {
           "coverUrl": "http://1257277811.vod2.myqcloud.com/11a49ad0vodtransgzp1257277811/62f942c75285890782031609810/snapshot/1538031994_3123967848.100_0.jpg",
           "duration": 2,
           "fileId": "5285890782031609810",
           "fileName": "来自小程序",
           "message": "",
           "playSet": [
            {
             "definition": 0,
             "url": "http://1257277811.vod2.myqcloud.com/5d7cf828vodgzp1257277811/62f942c75285890782031609810/Q1AS5vfW06EA.mp4",
             "vbitrate": 269082,
             "vheight": 640,
             "vwidth": 360
            },
            {
             "definition": 30,
             "url": "http://1257277811.vod2.myqcloud.com/11a49ad0vodtransgzp1257277811/62f942c75285890782031609810/v.f30.mp4",
             "vbitrate": 781662,
             "vheight": 1280,
             "vwidth": 720
            },
            {
             "definition": 40,
             "url": "http://1257277811.vod2.myqcloud.com/11a49ad0vodtransgzp1257277811/62f942c75285890782031609810/v.f40.mp4",
             "vbitrate": 2070147,
             "vheight": 1920,
             "vwidth": 1080
            }
           ],
           "status": 0,
           "vodTaskId": "1257277811-transcode-5cfaa8576b51667a5afc6fb54ffbc10d"
          },
          "eventType": "TranscodeComplete",
          "version": "4.0"
         },
         "msgHandle": "8078125467657865376"
        },
        {
         "eventContent": {
          "data": {
           "coverUrl": "http://1257277811.vod2.myqcloud.com/11a49ad0vodtransgzp1257277811/633ca8c35285890782031640523/1538032041_2144462737.100_0.jpg",
           "duration": 2,
           "fileId": "5285890782031640523",
           "fileName": "来自小程序",
           "message": "",
           "playSet": [
            {
             "definition": 0,
             "url": "http://1257277811.vod2.myqcloud.com/5d7cf828vodgzp1257277811/633ca8c35285890782031640523/KavTyMzL3AMA.mp4",
             "vbitrate": 269082,
             "vheight": 640,
             "vwidth": 360
            },
            {
             "definition": 30,
             "url": "http://1257277811.vod2.myqcloud.com/11a49ad0vodtransgzp1257277811/633ca8c35285890782031640523/v.f30.mp4",
             "vbitrate": 781662,
             "vheight": 1280,
             "vwidth": 720
            },
            {
             "definition": 40,
             "url": "http://1257277811.vod2.myqcloud.com/11a49ad0vodtransgzp1257277811/633ca8c35285890782031640523/v.f40.mp4",
             "vbitrate": 2070147,
             "vheight": 1920,
             "vwidth": 1080
            }
           ],
           "status": 0,
           "vodTaskId": "1257277811-transcode-db529a823bb695ca7a0271a93a4d9497"
          },
          "eventType": "TranscodeComplete",
          "version": "4.0"
         },
         "msgHandle": "8078308124281394399"
        },
        {
         "eventContent": {
          "data": {
           "coverUrl": "http://1257277811.vod2.myqcloud.com/11a49ad0vodtransgzp1257277811/82601dca5285890781266170316/snapshot/1538123805_2319480622.100_0.jpg",
           "duration": 2,
           "fileId": "5285890781266170316",
           "fileName": "来自小程序",
           "message": "",
           "playSet": [
            {
             "definition": 0,
             "url": "http://1257277811.vod2.myqcloud.com/5d7cf828vodgzp1257277811/82601dca5285890781266170316/1uUeFYnAnDYA.mp4",
             "vbitrate": 1685739,
             "vheight": 720,
             "vwidth": 1280
            },
            {
             "definition": 30,
             "url": "http://1257277811.vod2.myqcloud.com/11a49ad0vodtransgzp1257277811/82601dca5285890781266170316/v.f30.mp4",
             "vbitrate": 741872,
             "vheight": 1280,
             "vwidth": 720
            },
            {
             "definition": 40,
             "url": "http://1257277811.vod2.myqcloud.com/11a49ad0vodtransgzp1257277811/82601dca5285890781266170316/v.f40.mp4",
             "vbitrate": 2006820,
             "vheight": 1920,
             "vwidth": 1080
            }
           ],
           "status": 0,
           "vodTaskId": "1257277811-transcode-65356da6dbce897cfad60e44a1910e3e"
          },
          "eventType": "TranscodeComplete",
          "version": "4.0"
         },
         "msgHandle": "8078147171415142426"
        },
        {
         "eventContent": {
          "data": {
           "coverUrl": "http://1257277811.vod2.myqcloud.com/11a49ad0vodtransgzp1257277811/65ec59155285890782031790859/1538032692_4046121465.100_0.jpg",
           "duration": 2,
           "fileId": "5285890782031790859",
           "fileName": "来自小程序",
           "message": "",
           "playSet": [
            {
             "definition": 0,
             "url": "http://1257277811.vod2.myqcloud.com/5d7cf828vodgzp1257277811/65ec59155285890782031790859/8vVcasI6iikA.mp4",
             "vbitrate": 269082,
             "vheight": 640,
             "vwidth": 360
            },
            {
             "definition": 30,
             "url": "http://1257277811.vod2.myqcloud.com/11a49ad0vodtransgzp1257277811/65ec59155285890782031790859/v.f30.mp4",
             "vbitrate": 781662,
             "vheight": 1280,
             "vwidth": 720
            },
            {
             "definition": 40,
             "url": "http://1257277811.vod2.myqcloud.com/11a49ad0vodtransgzp1257277811/65ec59155285890782031790859/v.f40.mp4",
             "vbitrate": 2070147,
             "vheight": 1920,
             "vwidth": 1080
            }
           ],
           "status": 0,
           "vodTaskId": "1257277811-transcode-6355e1c48074280fc94b35fe3e53e681"
          },
          "eventType": "TranscodeComplete",
          "version": "4.0"
         },
         "msgHandle": "8078101281067392161"
        },
        {
         "eventContent": {
          "data": {
           "coverUrl": "http://1257277811.vod2.myqcloud.com/11a49ad0vodtransgzp1257277811/634ebdf05285890782031650499/1538032209_3042646700.100_0.jpg",
           "duration": 2,
           "fileId": "5285890782031650499",
           "fileName": "来自小程序",
           "message": "",
           "playSet": [
            {
             "definition": 0,
             "url": "http://1257277811.vod2.myqcloud.com/5d7cf828vodgzp1257277811/634ebdf05285890782031650499/eTet0zQaHXEA.mp4",
             "vbitrate": 269082,
             "vheight": 640,
             "vwidth": 360
            },
            {
             "definition": 30,
             "url": "http://1257277811.vod2.myqcloud.com/11a49ad0vodtransgzp1257277811/634ebdf05285890782031650499/v.f30.mp4",
             "vbitrate": 781662,
             "vheight": 1280,
             "vwidth": 720
            },
            {
             "definition": 40,
             "url": "http://1257277811.vod2.myqcloud.com/11a49ad0vodtransgzp1257277811/634ebdf05285890782031650499/v.f40.mp4",
             "vbitrate": 2070147,
             "vheight": 1920,
             "vwidth": 1080
            }
           ],
           "status": 0,
           "vodTaskId": "1257277811-transcode-55c0556e514af7cb41b9d08df8162a70"
          },
          "eventType": "TranscodeComplete",
          "version": "4.0"
         },
         "msgHandle": "8078259177860725719"
        },
        {
         "eventContent": {
          "data": {
           "coverUrl": "http://1257277811.vod2.myqcloud.com/11a49ad0vodtransgzp1257277811/56e34b245285890781469366798/1535446555_2098484210.100_0.jpg",
           "duration": 1,
           "fileId": "5285890781469366798",
           "fileName": "dev_b6_p13_20180828_165550",
           "message": "",
           "playSet": [
            {
             "definition": 0,
             "url": "http://1257277811.vod2.myqcloud.com/5d7cf828vodgzp1257277811/56e34b245285890781469366798/aywqvsQqmmIA.mp4",
             "vbitrate": 1277983,
             "vheight": 544,
             "vwidth": 960
            },
            {
             "definition": 30,
             "url": "http://1257277811.vod2.myqcloud.com/11a49ad0vodtransgzp1257277811/56e34b245285890781469366798/v.f30.mp4",
             "vbitrate": 966860,
             "vheight": 1280,
             "vwidth": 724
            },
            {
             "definition": 40,
             "url": "http://1257277811.vod2.myqcloud.com/11a49ad0vodtransgzp1257277811/56e34b245285890781469366798/v.f40.mp4",
             "vbitrate": 2550351,
             "vheight": 1920,
             "vwidth": 1088
            }
           ],
           "status": 0,
           "vodTaskId": "1257277811-transcode-ddd4cd112140c565b693b3560e745db5"
          },
          "eventType": "TranscodeComplete",
          "version": "4.0"
         },
         "msgHandle": "8078121079343972516"
        },
        {
         "eventContent": {
          "data": {
           "coverUrl": "http://1257277811.vod2.myqcloud.com/11a49ad0vodtransgzp1257277811/630ab9845285890782031618303/1538032545_1983561016.100_0.jpg",
           "duration": 2,
           "fileId": "5285890782031618303",
           "fileName": "来自小程序",
           "message": "",
           "playSet": [
            {
             "definition": 0,
             "url": "http://1257277811.vod2.myqcloud.com/5d7cf828vodgzp1257277811/630ab9845285890782031618303/hn2UNvBXtAkA.mp4",
             "vbitrate": 269082,
             "vheight": 640,
             "vwidth": 360
            },
            {
             "definition": 30,
             "url": "http://1257277811.vod2.myqcloud.com/11a49ad0vodtransgzp1257277811/630ab9845285890782031618303/v.f30.mp4",
             "vbitrate": 781662,
             "vheight": 1280,
             "vwidth": 720
            },
            {
             "definition": 40,
             "url": "http://1257277811.vod2.myqcloud.com/11a49ad0vodtransgzp1257277811/630ab9845285890782031618303/v.f40.mp4",
             "vbitrate": 2070147,
             "vheight": 1920,
             "vwidth": 1080
            }
           ],
           "status": 0,
           "vodTaskId": "1257277811-transcode-a9783b4acf2df17f70d6fa13df7d25bb"
          },
          "eventType": "TranscodeComplete",
          "version": "4.0"
         },
         "msgHandle": "8078278089398394429"
        },
        {
         "eventContent": {
          "data": {
           "coverUrl": "http://1257277811.vod2.myqcloud.com/11a49ad0vodtransgzp1257277811/8656ad245285890781463217102/1535423011_4263638152.100_0.jpg",
           "duration": 2,
           "fileId": "5285890781463217102",
           "fileName": " ",
           "message": "",
           "playSet": [
            {
             "definition": 0,
             "url": "http://1257277811.vod2.myqcloud.com/5d7cf828vodgzp1257277811/8656ad245285890781463217102/lA5EM246YFAA.mp4",
             "vbitrate": 269082,
             "vheight": 640,
             "vwidth": 360
            },
            {
             "definition": 30,
             "url": "http://1257277811.vod2.myqcloud.com/11a49ad0vodtransgzp1257277811/8656ad245285890781463217102/v.f30.mp4",
             "vbitrate": 781662,
             "vheight": 1280,
             "vwidth": 720
            },
            {
             "definition": 40,
             "url": "http://1257277811.vod2.myqcloud.com/11a49ad0vodtransgzp1257277811/8656ad245285890781463217102/v.f40.mp4",
             "vbitrate": 2070147,
             "vheight": 1920,
             "vwidth": 1080
            }
           ],
           "status": 0,
           "vodTaskId": "1257277811-transcode-05ded1c0214ecddedb60101f4d9a6faa"
          },
          "eventType": "TranscodeComplete",
          "version": "4.0"
         },
         "msgHandle": "8078057075448220728"
        },
        {
         "eventContent": {
          "data": {
           "coverUrl": "http://1257277811.vod2.myqcloud.com/11a49ad0vodtransgzp1257277811/9bbe768a5285890781446512172/1535341392_1491630762.100_0.jpg",
           "duration": 2,
           "fileId": "5285890781446512172",
           "fileName": "dev_b6_f0_20180827_114308",
           "message": "",
           "playSet": [
            {
             "definition": 0,
             "url": "http://1257277811.vod2.myqcloud.com/5d7cf828vodgzp1257277811/9bbe768a5285890781446512172/x3YaGjmZ2AwA.mp4",
             "vbitrate": 1685739,
             "vheight": 720,
             "vwidth": 1280
            },
            {
             "definition": 30,
             "url": "http://1257277811.vod2.myqcloud.com/11a49ad0vodtransgzp1257277811/9bbe768a5285890781446512172/v.f30.mp4",
             "vbitrate": 741872,
             "vheight": 1280,
             "vwidth": 720
            },
            {
             "definition": 40,
             "url": "http://1257277811.vod2.myqcloud.com/11a49ad0vodtransgzp1257277811/9bbe768a5285890781446512172/v.f40.mp4",
             "vbitrate": 2006820,
             "vheight": 1920,
             "vwidth": 1080
            }
           ],
           "status": 0,
           "vodTaskId": "1257277811-transcode-8afd9ecd29d2029a557ddea0328ad56f"
          },
          "eventType": "TranscodeComplete",
          "version": "4.0"
         },
         "msgHandle": "8078198132008488140"
        },
        {
         "eventContent": {
          "data": {
           "coverUrl": "http://1257277811.vod2.myqcloud.com/11a49ad0vodtransgzp1257277811/3f9116575285890781414644499/1535185853_3433192860.100_0.jpg",
           "duration": 2,
           "fileId": "5285890781414644499",
           "fileName": " ",
           "message": "",
           "playSet": [
            {
             "definition": 0,
             "url": "http://1257277811.vod2.myqcloud.com/5d7cf828vodgzp1257277811/3f9116575285890781414644499/1DNJZ1uYtB4A.mp4",
             "vbitrate": 1685739,
             "vheight": 720,
             "vwidth": 1280
            },
            {
             "definition": 30,
             "url": "http://1257277811.vod2.myqcloud.com/11a49ad0vodtransgzp1257277811/3f9116575285890781414644499/v.f30.mp4",
             "vbitrate": 741872,
             "vheight": 1280,
             "vwidth": 720
            },
            {
             "definition": 40,
             "url": "http://1257277811.vod2.myqcloud.com/11a49ad0vodtransgzp1257277811/3f9116575285890781414644499/v.f40.mp4",
             "vbitrate": 2006820,
             "vheight": 1920,
             "vwidth": 1080
            }
           ],
           "status": 0,
           "vodTaskId": "1257277811-transcode-32648152f7729f0980e0360a47ed44c7"
          },
          "eventType": "TranscodeComplete",
          "version": "4.0"
         },
         "msgHandle": "8078050461372645424"
        },
        {
         "eventContent": {
          "data": {
           "coverUrl": "http://1257277811.vod2.myqcloud.com/11a49ad0vodtransgzp1257277811/63520faf5285890782031656618/1538032594_2467120573.100_0.jpg",
           "duration": 2,
           "fileId": "5285890782031656618",
           "fileName": "来自小程序",
           "message": "",
           "playSet": [
            {
             "definition": 0,
             "url": "http://1257277811.vod2.myqcloud.com/5d7cf828vodgzp1257277811/63520faf5285890782031656618/YTHCAA1yj64A.mp4",
             "vbitrate": 269082,
             "vheight": 640,
             "vwidth": 360
            },
            {
             "definition": 30,
             "url": "http://1257277811.vod2.myqcloud.com/11a49ad0vodtransgzp1257277811/63520faf5285890782031656618/v.f30.mp4",
             "vbitrate": 781662,
             "vheight": 1280,
             "vwidth": 720
            },
            {
             "definition": 40,
             "url": "http://1257277811.vod2.myqcloud.com/11a49ad0vodtransgzp1257277811/63520faf5285890782031656618/v.f40.mp4",
             "vbitrate": 2070147,
             "vheight": 1920,
             "vwidth": 1080
            }
           ],
           "status": 0,
           "vodTaskId": "1257277811-transcode-5c3bac5ebf0df301b9acd9bb26e58293"
          },
          "eventType": "TranscodeComplete",
          "version": "4.0"
         },
         "msgHandle": "8078299364463330544"
        },
        {
         "eventContent": {
          "data": {
           "coverUrl": "http://1257277811.vod2.myqcloud.com/11a49ad0vodtransgzp1257277811/6a29f5ac5285890782031930089/1538033251_1225918359.100_0.jpg",
           "duration": 2,
           "fileId": "5285890782031930089",
           "fileName": "来自小程序",
           "message": "",
           "playSet": [
            {
             "definition": 0,
             "url": "http://1257277811.vod2.myqcloud.com/5d7cf828vodgzp1257277811/6a29f5ac5285890782031930089/1bcud7KGSfoA.mp4",
             "vbitrate": 269082,
             "vheight": 640,
             "vwidth": 360
            },
            {
             "definition": 30,
             "url": "http://1257277811.vod2.myqcloud.com/11a49ad0vodtransgzp1257277811/6a29f5ac5285890782031930089/v.f30.mp4",
             "vbitrate": 781662,
             "vheight": 1280,
             "vwidth": 720
            },
            {
             "definition": 40,
             "url": "http://1257277811.vod2.myqcloud.com/11a49ad0vodtransgzp1257277811/6a29f5ac5285890782031930089/v.f40.mp4",
             "vbitrate": 2070147,
             "vheight": 1920,
             "vwidth": 1080
            }
           ],
           "status": 0,
           "vodTaskId": "1257277811-transcode-0a91205a1142aea7b7ba99a437d48ac3"
          },
          "eventType": "TranscodeComplete",
          "version": "4.0"
         },
         "msgHandle": "8078099599585859986"
        }
       ],
       "message": ""
      },
      "text/plain": [
       "<IPython.core.display.JSON object>"
      ]
     },
     "execution_count": 8,
     "metadata": {
      "application/json": {
       "expanded": true
      }
     },
     "output_type": "execute_result"
    }
   ],
   "source": [
    "# 拉取消息队列\n",
    "current = int(time.time())\n",
    "nonce = randint(1, pow(2, 32))\n",
    "s = sign.Sign(secret_id, secret_key)\n",
    "params = {\n",
    "    'SecretId': secret_id,\n",
    "    'SignatureMethod': 'HmacSHA1',\n",
    "    'Nonce': nonce,\n",
    "    'Timestamp': current,\n",
    "    'Action': 'PullEvent'\n",
    "}\n",
    "ss = s.make('vod.api.qcloud.com', '/v2/index.php', params,\n",
    "            method='GET')\n",
    "\n",
    "url = 'https://vod.api.qcloud.com/v2/index.php'\n",
    "params.update({'Signature': ss})\n",
    "r = requests.get(url, params)\n",
    "JSON(r.json(), expanded=True)"
   ]
  },
  {
   "cell_type": "code",
   "execution_count": 9,
   "metadata": {},
   "outputs": [],
   "source": [
    "data = r.json()"
   ]
  },
  {
   "cell_type": "code",
   "execution_count": 10,
   "metadata": {},
   "outputs": [],
   "source": [
    "event_list = data.get('eventList')"
   ]
  },
  {
   "cell_type": "code",
   "execution_count": 11,
   "metadata": {},
   "outputs": [
    {
     "data": {
      "text/plain": [
       "{'msgHandle': '8078100399705840390',\n",
       " 'eventContent': {'data': {'coverUrl': 'http://1257277811.vod2.myqcloud.com/11a49ad0vodtransgzp1257277811/5e8396275285890782031436830/1538031374_3062867785.100_0.jpg',\n",
       "   'duration': 2,\n",
       "   'fileId': '5285890782031436830',\n",
       "   'fileName': '来自小程序',\n",
       "   'message': '',\n",
       "   'playSet': [{'definition': 0,\n",
       "     'url': 'http://1257277811.vod2.myqcloud.com/5d7cf828vodgzp1257277811/5e8396275285890782031436830/i5E4HWMfwJgA.mp4',\n",
       "     'vbitrate': 269082,\n",
       "     'vheight': 640,\n",
       "     'vwidth': 360},\n",
       "    {'definition': 30,\n",
       "     'url': 'http://1257277811.vod2.myqcloud.com/11a49ad0vodtransgzp1257277811/5e8396275285890782031436830/v.f30.mp4',\n",
       "     'vbitrate': 781662,\n",
       "     'vheight': 1280,\n",
       "     'vwidth': 720},\n",
       "    {'definition': 40,\n",
       "     'url': 'http://1257277811.vod2.myqcloud.com/11a49ad0vodtransgzp1257277811/5e8396275285890782031436830/v.f40.mp4',\n",
       "     'vbitrate': 2070147,\n",
       "     'vheight': 1920,\n",
       "     'vwidth': 1080}],\n",
       "   'status': 0,\n",
       "   'vodTaskId': '1257277811-transcode-b72561693e7b2208fb71dc5422733969'},\n",
       "  'eventType': 'TranscodeComplete',\n",
       "  'version': '4.0'}}"
      ]
     },
     "execution_count": 11,
     "metadata": {},
     "output_type": "execute_result"
    }
   ],
   "source": [
    "event_list[0]"
   ]
  },
  {
   "cell_type": "code",
   "execution_count": 12,
   "metadata": {},
   "outputs": [],
   "source": [
    "e_data = event_list[0].get('eventContent').get('data')"
   ]
  },
  {
   "cell_type": "code",
   "execution_count": 13,
   "metadata": {},
   "outputs": [
    {
     "data": {
      "text/plain": [
       "{'coverUrl': 'http://1257277811.vod2.myqcloud.com/11a49ad0vodtransgzp1257277811/5e8396275285890782031436830/1538031374_3062867785.100_0.jpg',\n",
       " 'duration': 2,\n",
       " 'fileId': '5285890782031436830',\n",
       " 'fileName': '来自小程序',\n",
       " 'message': '',\n",
       " 'playSet': [{'definition': 0,\n",
       "   'url': 'http://1257277811.vod2.myqcloud.com/5d7cf828vodgzp1257277811/5e8396275285890782031436830/i5E4HWMfwJgA.mp4',\n",
       "   'vbitrate': 269082,\n",
       "   'vheight': 640,\n",
       "   'vwidth': 360},\n",
       "  {'definition': 30,\n",
       "   'url': 'http://1257277811.vod2.myqcloud.com/11a49ad0vodtransgzp1257277811/5e8396275285890782031436830/v.f30.mp4',\n",
       "   'vbitrate': 781662,\n",
       "   'vheight': 1280,\n",
       "   'vwidth': 720},\n",
       "  {'definition': 40,\n",
       "   'url': 'http://1257277811.vod2.myqcloud.com/11a49ad0vodtransgzp1257277811/5e8396275285890782031436830/v.f40.mp4',\n",
       "   'vbitrate': 2070147,\n",
       "   'vheight': 1920,\n",
       "   'vwidth': 1080}],\n",
       " 'status': 0,\n",
       " 'vodTaskId': '1257277811-transcode-b72561693e7b2208fb71dc5422733969'}"
      ]
     },
     "execution_count": 13,
     "metadata": {},
     "output_type": "execute_result"
    }
   ],
   "source": [
    "e_data"
   ]
  },
  {
   "cell_type": "code",
   "execution_count": 16,
   "metadata": {},
   "outputs": [
    {
     "name": "stdout",
     "output_type": "stream",
     "text": [
      "30 = http://1257277811.vod2.myqcloud.com/11a49ad0vodtransgzp1257277811/5e8396275285890782031436830/v.f30.mp4\n",
      "40 = http://1257277811.vod2.myqcloud.com/11a49ad0vodtransgzp1257277811/5e8396275285890782031436830/v.f40.mp4\n",
      "30 = http://1257277811.vod2.myqcloud.com/11a49ad0vodtransgzp1257277811/609f2b695285890782031500867/v.f30.mp4\n",
      "40 = http://1257277811.vod2.myqcloud.com/11a49ad0vodtransgzp1257277811/609f2b695285890782031500867/v.f40.mp4\n",
      "30 = http://1257277811.vod2.myqcloud.com/11a49ad0vodtransgzp1257277811/60ea31a75285890782031545253/v.f30.mp4\n",
      "40 = http://1257277811.vod2.myqcloud.com/11a49ad0vodtransgzp1257277811/60ea31a75285890782031545253/v.f40.mp4\n",
      "30 = http://1257277811.vod2.myqcloud.com/11a49ad0vodtransgzp1257277811/60d9c26a5285890782031538344/v.f30.mp4\n",
      "40 = http://1257277811.vod2.myqcloud.com/11a49ad0vodtransgzp1257277811/60d9c26a5285890782031538344/v.f40.mp4\n",
      "30 = http://1257277811.vod2.myqcloud.com/11a49ad0vodtransgzp1257277811/62f942c75285890782031609810/v.f30.mp4\n",
      "40 = http://1257277811.vod2.myqcloud.com/11a49ad0vodtransgzp1257277811/62f942c75285890782031609810/v.f40.mp4\n",
      "30 = http://1257277811.vod2.myqcloud.com/11a49ad0vodtransgzp1257277811/633ca8c35285890782031640523/v.f30.mp4\n",
      "40 = http://1257277811.vod2.myqcloud.com/11a49ad0vodtransgzp1257277811/633ca8c35285890782031640523/v.f40.mp4\n",
      "30 = http://1257277811.vod2.myqcloud.com/11a49ad0vodtransgzp1257277811/82601dca5285890781266170316/v.f30.mp4\n",
      "40 = http://1257277811.vod2.myqcloud.com/11a49ad0vodtransgzp1257277811/82601dca5285890781266170316/v.f40.mp4\n",
      "30 = http://1257277811.vod2.myqcloud.com/11a49ad0vodtransgzp1257277811/65ec59155285890782031790859/v.f30.mp4\n",
      "40 = http://1257277811.vod2.myqcloud.com/11a49ad0vodtransgzp1257277811/65ec59155285890782031790859/v.f40.mp4\n",
      "30 = http://1257277811.vod2.myqcloud.com/11a49ad0vodtransgzp1257277811/634ebdf05285890782031650499/v.f30.mp4\n",
      "40 = http://1257277811.vod2.myqcloud.com/11a49ad0vodtransgzp1257277811/634ebdf05285890782031650499/v.f40.mp4\n",
      "30 = http://1257277811.vod2.myqcloud.com/11a49ad0vodtransgzp1257277811/56e34b245285890781469366798/v.f30.mp4\n",
      "40 = http://1257277811.vod2.myqcloud.com/11a49ad0vodtransgzp1257277811/56e34b245285890781469366798/v.f40.mp4\n",
      "30 = http://1257277811.vod2.myqcloud.com/11a49ad0vodtransgzp1257277811/630ab9845285890782031618303/v.f30.mp4\n",
      "40 = http://1257277811.vod2.myqcloud.com/11a49ad0vodtransgzp1257277811/630ab9845285890782031618303/v.f40.mp4\n",
      "30 = http://1257277811.vod2.myqcloud.com/11a49ad0vodtransgzp1257277811/8656ad245285890781463217102/v.f30.mp4\n",
      "40 = http://1257277811.vod2.myqcloud.com/11a49ad0vodtransgzp1257277811/8656ad245285890781463217102/v.f40.mp4\n",
      "30 = http://1257277811.vod2.myqcloud.com/11a49ad0vodtransgzp1257277811/9bbe768a5285890781446512172/v.f30.mp4\n",
      "40 = http://1257277811.vod2.myqcloud.com/11a49ad0vodtransgzp1257277811/9bbe768a5285890781446512172/v.f40.mp4\n",
      "30 = http://1257277811.vod2.myqcloud.com/11a49ad0vodtransgzp1257277811/3f9116575285890781414644499/v.f30.mp4\n",
      "40 = http://1257277811.vod2.myqcloud.com/11a49ad0vodtransgzp1257277811/3f9116575285890781414644499/v.f40.mp4\n",
      "30 = http://1257277811.vod2.myqcloud.com/11a49ad0vodtransgzp1257277811/63520faf5285890782031656618/v.f30.mp4\n",
      "40 = http://1257277811.vod2.myqcloud.com/11a49ad0vodtransgzp1257277811/63520faf5285890782031656618/v.f40.mp4\n",
      "30 = http://1257277811.vod2.myqcloud.com/11a49ad0vodtransgzp1257277811/6a29f5ac5285890782031930089/v.f30.mp4\n",
      "40 = http://1257277811.vod2.myqcloud.com/11a49ad0vodtransgzp1257277811/6a29f5ac5285890782031930089/v.f40.mp4\n"
     ]
    }
   ],
   "source": [
    "for event in event_list:\n",
    "    if event.get('eventContent').get('eventType') == 'TranscodeComplete':\n",
    "    # 只对转码信息做处理\n",
    "    # 转码完成\n",
    "        e_data = event.get('eventContent').get('data')\n",
    "\n",
    "        play_set = e_data.get('playSet')\n",
    "        if play_set:\n",
    "            for p in play_set:\n",
    "                if p.get('definition') == 30:\n",
    "                    print('30 =', p.get('url'))\n",
    "                elif p.get('definition') == 40:\n",
    "                    print('40 =', p.get('url'))"
   ]
  },
  {
   "cell_type": "code",
   "execution_count": 41,
   "metadata": {},
   "outputs": [
    {
     "data": {
      "text/plain": [
       "'8078120620520275918'"
      ]
     },
     "execution_count": 41,
     "metadata": {},
     "output_type": "execute_result"
    }
   ],
   "source": [
    "event_list[0].get('msgHandle')"
   ]
  },
  {
   "cell_type": "code",
   "execution_count": 43,
   "metadata": {},
   "outputs": [
    {
     "data": {
      "text/plain": [
       "'NewFileUpload'"
      ]
     },
     "execution_count": 43,
     "metadata": {},
     "output_type": "execute_result"
    }
   ],
   "source": [
    "event_list[0].get('eventContent').get('eventType')"
   ]
  },
  {
   "cell_type": "code",
   "execution_count": 44,
   "metadata": {},
   "outputs": [
    {
     "data": {
      "text/plain": [
       "{'msgHandle': '8078120620520275918',\n",
       " 'eventContent': {'data': {'author': '',\n",
       "   'continued': 0,\n",
       "   'fileId': '5285890781114720327',\n",
       "   'fileName': '来自小程序',\n",
       "   'fileUrl': 'http://1257277811.vod2.myqcloud.com/5d7cf828vodgzp1257277811/e44a84455285890781114720327/oPA5dWrnD3YA.mp4',\n",
       "   'message': '',\n",
       "   'metaData': {'audioDuration': 8.4520626068115,\n",
       "    'audioStreamList': [{'bitrate': 64189,\n",
       "      'codec': 'aac',\n",
       "      'samplingRate': 44100}],\n",
       "    'bitrate': 366568,\n",
       "    'container': 'mov,mp4,m4a,3gp,3g2,mj2',\n",
       "    'duration': 8,\n",
       "    'floatDuration': 8.65149974823,\n",
       "    'height': 480,\n",
       "    'md5': '',\n",
       "    'rotate': 0,\n",
       "    'size': 399423,\n",
       "    'totalSize': 399423,\n",
       "    'videoDuration': 8.65149974823,\n",
       "    'videoStreamList': [{'bitrate': 302379,\n",
       "      'codec': 'h264',\n",
       "      'fps': 14,\n",
       "      'height': 480,\n",
       "      'width': 272}],\n",
       "    'width': 272},\n",
       "   'sourceContext': '',\n",
       "   'sourceType': 'ClientUpload',\n",
       "   'status': 0,\n",
       "   'vodTaskId': ''},\n",
       "  'eventType': 'NewFileUpload',\n",
       "  'version': '4.0'}}"
      ]
     },
     "execution_count": 44,
     "metadata": {},
     "output_type": "execute_result"
    }
   ],
   "source": [
    "event_list[0]"
   ]
  },
  {
   "cell_type": "code",
   "execution_count": null,
   "metadata": {},
   "outputs": [],
   "source": []
  }
 ],
 "metadata": {
  "kernelspec": {
   "display_name": "Python 3",
   "language": "python",
   "name": "python3"
  },
  "language_info": {
   "codemirror_mode": {
    "name": "ipython",
    "version": 3
   },
   "file_extension": ".py",
   "mimetype": "text/x-python",
   "name": "python",
   "nbconvert_exporter": "python",
   "pygments_lexer": "ipython3",
   "version": "3.6.5"
  }
 },
 "nbformat": 4,
 "nbformat_minor": 2
}
