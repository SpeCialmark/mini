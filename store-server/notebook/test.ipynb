{
 "cells": [
  {
   "cell_type": "code",
   "execution_count": 133,
   "metadata": {},
   "outputs": [],
   "source": [
    "from collections import namedtuple\n",
    "from functools import partial, wraps\n",
    "import json\n",
    "import redis\n",
    "from datetime import datetime, timedelta\n",
    "import yaml\n",
    "from wechatpy.exceptions import WeChatClientException, APILimitedException\n",
    "from PIL import Image, ImageDraw, ImageFont\n",
    "import timeit"
   ]
  },
  {
   "cell_type": "code",
   "execution_count": 2,
   "metadata": {},
   "outputs": [],
   "source": [
    "import requests\n",
    "from pprint import pprint\n",
    "from IPython.display import JSON"
   ]
  },
  {
   "cell_type": "code",
   "execution_count": 150,
   "metadata": {},
   "outputs": [],
   "source": [
    "base_url = 'https://store.11train.com/api/v1'\n",
    "token_format = '{phone_number}:{sms_code}'"
   ]
  },
  {
   "cell_type": "code",
   "execution_count": 159,
   "metadata": {},
   "outputs": [
    {
     "data": {
      "text/plain": [
       "{'msg': 'Hello 11train!'}"
      ]
     },
     "execution_count": 159,
     "metadata": {},
     "output_type": "execute_result"
    }
   ],
   "source": [
    "r = requests.get(base_url + '/store/health')\n",
    "r.json()"
   ]
  },
  {
   "cell_type": "code",
   "execution_count": 44,
   "metadata": {},
   "outputs": [],
   "source": [
    "admin_header = {}"
   ]
  },
  {
   "cell_type": "code",
   "execution_count": 151,
   "metadata": {},
   "outputs": [],
   "source": [
    "phone_number = '18688967466'"
   ]
  },
  {
   "cell_type": "code",
   "execution_count": 152,
   "metadata": {},
   "outputs": [
    {
     "name": "stdout",
     "output_type": "stream",
     "text": [
      "{'msg': '短信已发送, 请注意查收.', 'token_format': '{phone_number}:{sms_code}'}\n"
     ]
    }
   ],
   "source": [
    "r = requests.post(base_url + '/user/admin_login/' + phone_number)\n",
    "pprint(r.json())"
   ]
  },
  {
   "cell_type": "code",
   "execution_count": 153,
   "metadata": {},
   "outputs": [
    {
     "name": "stdout",
     "output_type": "stream",
     "text": [
      "{'token': '18688967466:977323'}\n"
     ]
    }
   ],
   "source": [
    "sms_code = '977323'     # 查看手机\n",
    "admin_header = {\n",
    "    'token': token_format.format(phone_number=phone_number, sms_code=sms_code)\n",
    "}\n",
    "pprint(admin_header)"
   ]
  },
  {
   "cell_type": "code",
   "execution_count": 155,
   "metadata": {},
   "outputs": [
    {
     "data": {
      "application/json": {
       "apps": [
        {
         "app_id": "wxa2133d52d24860d0",
         "nick_name": "11练健身房",
         "release_result": {
          "errcode": [],
          "errmsg": []
         }
        }
       ]
      },
      "text/plain": [
       "<IPython.core.display.JSON object>"
      ]
     },
     "execution_count": 155,
     "metadata": {
      "application/json": {
       "expanded": true
      }
     },
     "output_type": "execute_result"
    }
   ],
   "source": [
    "template_id = 1\n",
    "url = base_url + '/codebase/templates/{template_id}/apps'.format(template_id=template_id)\n",
    "# params里面的参数是可选的, 当app_id有设置的话, 那么限制在列表内, 列表字符串用逗号分割,不要加空格. released默认是1, 也是限制已经上线的, 输入其他数值, 就不做限制了.\n",
    "params = {\n",
    "    'app_id':'wxa2133d52d24860d0',\n",
    "   'released': 0\n",
    "}\n",
    "r = requests.get(url, headers=admin_header, params=params)\n",
    "JSON(r.json(), expanded=True)"
   ]
  },
  {
   "cell_type": "code",
   "execution_count": 157,
   "metadata": {},
   "outputs": [
    {
     "data": {
      "application/json": {
       "check_info_actions": [
        {
         "app_id": "wxa2133d52d24860d0",
         "check_info_action": {
          "action": "check_info",
          "attachment": null,
          "msg": [
           "已通过"
          ],
          "status": 1,
          "time": "8月30日 20:23"
         },
         "nick_name": "11练健身房"
        }
       ]
      },
      "text/plain": [
       "<IPython.core.display.JSON object>"
      ]
     },
     "execution_count": 157,
     "metadata": {
      "application/json": {
       "expanded": true
      }
     },
     "output_type": "execute_result"
    }
   ],
   "source": [
    "template_id = 1\n",
    "url = base_url + '/codebase/templates/{template_id}/apps/actions/check_info'.format(template_id=template_id)\n",
    "# params里面的参数是可选的, 当app_id有设置的话, 那么限制在列表内, 列表字符串用逗号分割,不要加空格. released默认是1, 也是限制已经上线的, 输入其他数值, 就不做限制了.\n",
    "params = {\n",
    "    'app_id':'wxa2133d52d24860d0',\n",
    "   'released': 0\n",
    "}\n",
    "r = requests.post(url, headers=admin_header, params=params)\n",
    "JSON(r.json(), expanded=True)"
   ]
  },
  {
   "cell_type": "code",
   "execution_count": 172,
   "metadata": {},
   "outputs": [
    {
     "data": {
      "application/json": {
       "image_url": [
        "https://oss.11train.com/b/9rvu9ue7vwe1vc1v/qr/check_cover.png"
       ]
      },
      "text/plain": [
       "<IPython.core.display.JSON object>"
      ]
     },
     "execution_count": 172,
     "metadata": {
      "application/json": {
       "expanded": true
      }
     },
     "output_type": "execute_result"
    }
   ],
   "source": [
    "template_id = 1\n",
    "url = base_url + '/codebase/templates/{template_id}/apps/qrcode/check_in_cover'.format(template_id=template_id)\n",
    "# params里面的参数是可选的, 当app_id有设置的话, 那么限制在列表内, 列表字符串用逗号分割,不要加空格. released默认是1, 也是限制已经上线的, 输入其他数值, 就不做限制了.\n",
    "params = {\n",
    "    'app_id':'wx637060af75ab7cb7',\n",
    "   'released': 0\n",
    "}\n",
    "r = requests.post(url, headers=admin_header, params=params)\n",
    "JSON(r.json(), expanded=True)"
   ]
  },
  {
   "cell_type": "code",
   "execution_count": 103,
   "metadata": {},
   "outputs": [
    {
     "ename": "SyntaxError",
     "evalue": "invalid syntax (<ipython-input-103-bdcca7b0ad35>, line 18)",
     "output_type": "error",
     "traceback": [
      "\u001b[0;36m  File \u001b[0;32m\"<ipython-input-103-bdcca7b0ad35>\"\u001b[0;36m, line \u001b[0;32m18\u001b[0m\n\u001b[0;31m    future_to_url = [executor.submit(load_url, url, 60): url for url in URLS]\u001b[0m\n\u001b[0m                                                       ^\u001b[0m\n\u001b[0;31mSyntaxError\u001b[0m\u001b[0;31m:\u001b[0m invalid syntax\n"
     ]
    }
   ],
   "source": [
    "import concurrent.futures\n",
    "import urllib.request\n",
    "\n",
    "URLS = ['http://www.foxnews.com/',\n",
    "        'http://www.cnn.com/',\n",
    "        'http://europe.wsj.com/',\n",
    "        'http://www.bbc.co.uk/',\n",
    "        'http://some-made-up-domain.com/']\n",
    "\n",
    "# Retrieve a single page and report the URL and contents\n",
    "def load_url(url, timeout):\n",
    "    with urllib.request.urlopen(url, timeout=timeout) as conn:\n",
    "        return conn.read()\n",
    "\n",
    "# We can use a with statement to ensure threads are cleaned up promptly\n",
    "with concurrent.futures.ThreadPoolExecutor(max_workers=5) as executor:\n",
    "    # Start the load operations and mark each future with its URL\n",
    "    future_to_url = [executor.submit(load_url, url, 60): url for url in URLS]\n",
    "    for future in concurrent.futures.as_completed(future_to_url):\n",
    "        url = future_to_url[future]\n",
    "        try:\n",
    "            data = future.result()\n",
    "        except Exception as exc:\n",
    "            print('%r generated an exception: %s' % (url, exc))\n",
    "        else:\n",
    "            print('%r page is %d bytes' % (url, len(data)))"
   ]
  },
  {
   "cell_type": "code",
   "execution_count": 102,
   "metadata": {},
   "outputs": [
    {
     "name": "stdout",
     "output_type": "stream",
     "text": [
      "2018-08-25 08:53:02.328536 'http://www.baidu.com/' page is 118285 bytes\n",
      "2018-08-25 08:53:02.431328 'http://www.jd.com/' page is 118807 bytes\n",
      "2018-08-25 08:53:02.440384 'http://www.qq.com/' page is 49057 bytes\n",
      "2018-08-25 08:53:02.621317 'http://www.taobao.com/' page is 144407 bytes\n",
      "2018-08-25 08:53:02.631481 'http://www.tmall.com/' page is 229600 bytes\n"
     ]
    }
   ],
   "source": [
    "import concurrent.futures\n",
    "import urllib.request\n",
    "from datetime import datetime\n",
    "\n",
    "URLS = ['http://www.baidu.com/',\n",
    "        'http://www.qq.com/',\n",
    "        'http://www.jd.com/',\n",
    "        'http://www.tmall.com/',\n",
    "        'http://www.taobao.com/']\n",
    "\n",
    "# Retrieve a single page and report the URL and contents\n",
    "def load_url(url, timeout):\n",
    "    with urllib.request.urlopen(url, timeout=timeout) as conn:\n",
    "        return conn.read()\n",
    "\n",
    "# We can use a with statement to ensure threads are cleaned up promptly\n",
    "with concurrent.futures.ThreadPoolExecutor(max_workers=5) as executor:\n",
    "    # Start the load operations and mark each future with its URL\n",
    "    future_to_url = {executor.submit(load_url, url, 60): url for url in URLS}\n",
    "    for future in concurrent.futures.as_completed(future_to_url):\n",
    "        url = future_to_url[future]\n",
    "        try:\n",
    "            data = future.result()\n",
    "        except Exception as exc:\n",
    "            print('%r generated an exception: %s' % (url, exc))\n",
    "        else:\n",
    "            print(str(datetime.now()), '%r page is %d bytes' % (url, len(data)))"
   ]
  },
  {
   "cell_type": "code",
   "execution_count": null,
   "metadata": {},
   "outputs": [],
   "source": []
  },
  {
   "cell_type": "code",
   "execution_count": 104,
   "metadata": {},
   "outputs": [],
   "source": [
    "from concurrent import futures"
   ]
  },
  {
   "cell_type": "code",
   "execution_count": 119,
   "metadata": {},
   "outputs": [],
   "source": [
    "\n",
    "# We can use a with statement to ensure threads are cleaned up promptly\n",
    "with concurrent.futures.ThreadPoolExecutor(max_workers=5) as executor:\n",
    "    # Start the load operations and mark each future with its URL\n",
    "    f0 = executor.submit(load_url, URLS[0], 60)\n",
    "    f1 = executor.submit(load_url, URLS[1], 60)\n",
    "    f2 = executor.submit(load_url, URLS[2], 60)\n",
    "    f3 = executor.submit(load_url, URLS[3], 60)\n",
    "    f4 = executor.submit(load_url, URLS[4], 60)\n",
    "    future_to_url = {f0: '0', f1: '1', f2: '2', f3: '3', f4:'4'}\n",
    "    finished, pending = futures.wait(\n",
    "                future_to_url,\n",
    "                return_when=futures.ALL_COMPLETED)\n",
    "    \n",
    "    \n",
    "#      print(str(datetime.now()), '%r page is %d bytes' % (url, len(data)))"
   ]
  },
  {
   "cell_type": "code",
   "execution_count": 120,
   "metadata": {},
   "outputs": [
    {
     "name": "stdout",
     "output_type": "stream",
     "text": [
      "2\n",
      "118852\n",
      "3\n",
      "229595\n",
      "0\n",
      "118432\n",
      "4\n",
      "144407\n",
      "1\n",
      "49188\n"
     ]
    }
   ],
   "source": [
    "for f in finished:\n",
    "    data = f.result()\n",
    "    print(future_to_url[f])\n",
    "    print(len(data))\n"
   ]
  },
  {
   "cell_type": "code",
   "execution_count": 121,
   "metadata": {},
   "outputs": [
    {
     "data": {
      "text/plain": [
       "<wechatpy.client.WeChatComponentClient at 0x7f3df2703470>"
      ]
     },
     "execution_count": 121,
     "metadata": {},
     "output_type": "execute_result"
    }
   ],
   "source": [
    "client"
   ]
  },
  {
   "cell_type": "code",
   "execution_count": 123,
   "metadata": {},
   "outputs": [],
   "source": [
    "scene = 'a&a'"
   ]
  },
  {
   "cell_type": "code",
   "execution_count": 125,
   "metadata": {},
   "outputs": [],
   "source": [
    "r = client.wxa.get_wxa_code_unlimited(scene)"
   ]
  },
  {
   "cell_type": "code",
   "execution_count": 129,
   "metadata": {},
   "outputs": [
    {
     "data": {
      "text/plain": [
       "'/home/jovyan/work/notebook'"
      ]
     },
     "execution_count": 129,
     "metadata": {},
     "output_type": "execute_result"
    }
   ],
   "source": [
    "%pwd"
   ]
  },
  {
   "cell_type": "code",
   "execution_count": 143,
   "metadata": {},
   "outputs": [
    {
     "data": {
      "text/plain": [
       "200"
      ]
     },
     "execution_count": 143,
     "metadata": {},
     "output_type": "execute_result"
    }
   ],
   "source": [
    "r.status_code"
   ]
  },
  {
   "cell_type": "code",
   "execution_count": 148,
   "metadata": {},
   "outputs": [
    {
     "data": {
      "image/png": "[encoded data removed]",
      "text/plain": [
       "<PIL.JpegImagePlugin.JpegImageFile image mode=RGB size=430x430 at 0x7F3DE78F5940>"
      ]
     },
     "execution_count": 148,
     "metadata": {},
     "output_type": "execute_result"
    }
   ],
   "source": [
    "from io import BytesIO\n",
    "Image.open(BytesIO(r.content))"
   ]
  },
  {
   "cell_type": "code",
   "execution_count": 130,
   "metadata": {},
   "outputs": [],
   "source": [
    "path = '/home/jovyan/work/notebook/qr.jpg'\n",
    "if r.status_code == 200:\n",
    "    with open(path, 'wb') as f:\n",
    "        f.write(r.content)"
   ]
  },
  {
   "cell_type": "code",
   "execution_count": 1,
   "metadata": {},
   "outputs": [
    {
     "data": {
      "text/plain": [
       "'/home/jovyan/work/notebook'"
      ]
     },
     "execution_count": 1,
     "metadata": {},
     "output_type": "execute_result"
    }
   ],
   "source": [
    "%pwd"
   ]
  },
  {
   "cell_type": "code",
   "execution_count": 2,
   "metadata": {},
   "outputs": [],
   "source": [
    "from datetime import datetime"
   ]
  },
  {
   "cell_type": "code",
   "execution_count": 3,
   "metadata": {},
   "outputs": [],
   "source": [
    "t = datetime(year=2018, month=10, day=15, hour=11, minute=57, second=0)"
   ]
  },
  {
   "cell_type": "code",
   "execution_count": 4,
   "metadata": {},
   "outputs": [],
   "source": [
    "now = datetime.now()"
   ]
  },
  {
   "cell_type": "code",
   "execution_count": 5,
   "metadata": {},
   "outputs": [
    {
     "data": {
      "text/plain": [
       "datetime.datetime(2018, 10, 15, 11, 57)"
      ]
     },
     "execution_count": 5,
     "metadata": {},
     "output_type": "execute_result"
    }
   ],
   "source": [
    "t "
   ]
  },
  {
   "cell_type": "code",
   "execution_count": 6,
   "metadata": {},
   "outputs": [
    {
     "data": {
      "text/plain": [
       "datetime.datetime(2018, 10, 15, 3, 55, 20, 641785)"
      ]
     },
     "execution_count": 6,
     "metadata": {},
     "output_type": "execute_result"
    }
   ],
   "source": [
    "now"
   ]
  },
  {
   "cell_type": "code",
   "execution_count": 7,
   "metadata": {},
   "outputs": [
    {
     "data": {
      "text/plain": [
       "True"
      ]
     },
     "execution_count": 7,
     "metadata": {},
     "output_type": "execute_result"
    }
   ],
   "source": [
    "t> now"
   ]
  },
  {
   "cell_type": "code",
   "execution_count": 3,
   "metadata": {},
   "outputs": [],
   "source": [
    "import requests"
   ]
  },
  {
   "cell_type": "code",
   "execution_count": 7,
   "metadata": {},
   "outputs": [],
   "source": [
    "data = {\n",
    "    'Message': '{\"biz_hid\": \"test\", \"brief\": \"hello\"}'\n",
    "}"
   ]
  },
  {
   "cell_type": "code",
   "execution_count": 27,
   "metadata": {},
   "outputs": [],
   "source": [
    "url = 'http://ws.11train.com/customer_arrived'"
   ]
  },
  {
   "cell_type": "code",
   "execution_count": 36,
   "metadata": {},
   "outputs": [],
   "source": [
    "r = requests.post(url, json=data)"
   ]
  },
  {
   "cell_type": "code",
   "execution_count": 34,
   "metadata": {},
   "outputs": [
    {
     "data": {
      "text/plain": [
       "<Response [405]>"
      ]
     },
     "execution_count": 34,
     "metadata": {},
     "output_type": "execute_result"
    }
   ],
   "source": [
    "r"
   ]
  }
 ],
 "metadata": {
  "kernelspec": {
   "display_name": "Python 3",
   "language": "python",
   "name": "python3"
  },
  "language_info": {
   "codemirror_mode": {
    "name": "ipython",
    "version": 3
   },
   "file_extension": ".py",
   "mimetype": "text/x-python",
   "name": "python",
   "nbconvert_exporter": "python",
   "pygments_lexer": "ipython3",
   "version": "3.7.1"
  }
 },
 "nbformat": 4,
 "nbformat_minor": 2
}
